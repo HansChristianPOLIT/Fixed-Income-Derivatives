{
 "cells": [
  {
   "cell_type": "code",
   "execution_count": 4,
   "metadata": {},
   "outputs": [],
   "source": [
    "import numpy as np\n",
    "from scipy.special import ndtr\n",
    "from scipy.stats import norm, ncx2\n",
    "from scipy.optimize import minimize\n",
    "from numpy.polynomial.hermite import hermfit, hermval, hermder\n",
    "import copy\n",
    "import fixed_income_derivatives as fid\n",
    "import matplotlib.pyplot as plt"
   ]
  },
  {
   "cell_type": "markdown",
   "metadata": {},
   "source": [
    "To calculate the credit default swaps (CDS), we use the following formula:\n",
    "\n",
    "$$\n",
    "C^* = \\frac{LGD \\cdot \\sum_{j=n+1}^{N} p(t, T_j) \\left[ \\exp\\left(-\\int_{0}^{T_{j-1}} \\lambda(s) ds\\right) - \\exp\\left(-\\int_{0}^{T_j} \\lambda(s) ds\\right) \\right]}{\\sum_{j=n+1}^{N} \\alpha_j p(t, T_j) \\exp\\left(-\\int_{0}^{T_j} \\lambda(s) ds\\right)}\n",
    "$$\n",
    "\n",
    "This function is defined in 'zcb_to_CDS'. The functions takes the usual inputs and also 'LGD' and 'intensity'. 'LGD' is difined as $RR = 1 - LGD$, where $RR$ is often 0.4. 'Intensity' are often not observed, but in this case, we provide an example of them. The code is:"
   ]
  },
  {
   "cell_type": "code",
   "execution_count": 5,
   "metadata": {},
   "outputs": [
    {
     "data": {
      "text/plain": [
       "array([0.        , 1.20644989, 1.04450929, 0.860798  , 0.7721212 ,\n",
       "       0.68665404])"
      ]
     },
     "execution_count": 5,
     "metadata": {},
     "output_type": "execute_result"
    }
   ],
   "source": [
    "def zcb_to_CDS(T_n,T_N,fixed_freq,T,p,LGD,intensity):\n",
    "    I_n, idx_n = fid.value_in_list_returns_I_idx(T_n,T)\n",
    "    I_N, idx_N = fid.value_in_list_returns_I_idx(T_N,T)\n",
    "\n",
    "    if fixed_freq == \"quarterly\":\n",
    "        alpha = 0.25\n",
    "    elif fixed_freq == \"semiannual\":\n",
    "        alpha = 0.5\n",
    "    elif fixed_freq == \"annual\":\n",
    "        alpha = 0.5\n",
    "\n",
    "    D = 0\n",
    "    for i in range(idx_n,idx_N):\n",
    "        D += p[i]\n",
    "\n",
    "    S = fid.zcb_to_accrual_factor(T_n,T_N,fixed_freq,T,p)\n",
    "\n",
    "    intensity_exp_diff = np.exp(-sum(intensity[idx_n:idx_N])*alpha-sum(intensity[idx_n:idx_N+1])*alpha)\n",
    "    intensity_exp = np.exp(-sum(intensity[idx_n:idx_N+1])*alpha)\n",
    "\n",
    "    R = (LGD*D*intensity_exp_diff)/(S*intensity_exp)\n",
    "    return R\n",
    "\n",
    "RR = 0.4\n",
    "\n",
    "LGD = 1 - RR\n",
    "\n",
    "#Example:\n",
    "T = [0, 0.5, 1, 1.5, 2, 2.5]\n",
    "p = [1, 0.9, 0.8, 0.7, 0.5, 0.24]\n",
    "intensity = [0.2, 0.3, 0.4, 0.3, 0.35, 0.123]\n",
    "\n",
    "CDS = np.zeros(len(T))\n",
    "for i in range(1,len(T)):\n",
    "    CDS[i] = zcb_to_CDS(0,T[i],\"semiannual\",T,p,LGD,intensity)\n",
    "\n",
    "CDS"
   ]
  },
  {
   "cell_type": "markdown",
   "metadata": {},
   "source": [
    "Instead, what we often observe are the credit default swaps on the market. Hence, we define an optimization function and fit the intensities. Doing this, we achieve the same intensities as above, EXCEPT for the last intensity (don't know why):"
   ]
  },
  {
   "cell_type": "code",
   "execution_count": 6,
   "metadata": {},
   "outputs": [
    {
     "name": "stdout",
     "output_type": "stream",
     "text": [
      "[0.         1.20644989 1.04450929 0.860798   0.7721212  0.68665404]\n",
      "Optimization terminated successfully.\n",
      "         Current function value: 0.000000\n",
      "         Iterations: 499\n",
      "         Function evaluations: 808\n",
      "Original intensity is:  [0.2, 0.3, 0.4, 0.3, 0.35, 0.123]\n",
      "Fitted intensities are:  [ 0.2         0.3         0.4         0.3         0.35       -0.85487954]\n"
     ]
    }
   ],
   "source": [
    "def fit_cds_obj(intensity,param,CDS_star,T,scaling = 1):\n",
    "    p, LGD = param\n",
    "    CDS_fit = np.zeros(len(T))\n",
    "\n",
    "    for i in range(1,len(T)):\n",
    "        CDS_fit[i] = zcb_to_CDS(0,T[i],\"semiannual\",T,p,LGD,intensity)\n",
    "\n",
    "    M = len(T)\n",
    "    y = 0\n",
    "    for m in range(0,M):\n",
    "        y += scaling*(CDS_fit[m] - CDS_star[m])**2\n",
    "    return y\n",
    "\n",
    "\n",
    "CDS_star = CDS \n",
    "\n",
    "print(CDS_star)\n",
    "intensity_0 = [0.01, 0.4, 0.2, 0.1, 0.2, 0.1]\n",
    "\n",
    "param = p, LGD\n",
    "\n",
    "results = minimize(fit_cds_obj, intensity_0, args=(param,CDS_star,T), method='nelder-mead',  options={'xatol': 1e-8,'disp': True, 'maxiter': 100000})\n",
    "\n",
    "print(\"Original intensity is: \", intensity)\n",
    "print(\"Fitted intensities are: \", results.x)"
   ]
  },
  {
   "cell_type": "code",
   "execution_count": null,
   "metadata": {},
   "outputs": [],
   "source": []
  }
 ],
 "metadata": {
  "kernelspec": {
   "display_name": "Python 3 (ipykernel)",
   "language": "python",
   "name": "python3"
  },
  "language_info": {
   "codemirror_mode": {
    "name": "ipython",
    "version": 3
   },
   "file_extension": ".py",
   "mimetype": "text/x-python",
   "name": "python",
   "nbconvert_exporter": "python",
   "pygments_lexer": "ipython3",
   "version": "3.9.12"
  }
 },
 "nbformat": 4,
 "nbformat_minor": 4
}
