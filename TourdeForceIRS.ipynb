{
 "cells": [
  {
   "cell_type": "markdown",
   "id": "ad2be9d0-5770-4b9c-b11c-3bc98a87a950",
   "metadata": {},
   "source": [
    "# Interest Rate Swaps - Problem Set 1 & 2"
   ]
  },
  {
   "cell_type": "markdown",
   "id": "c11694dc-d10f-4a97-a75e-65056d888a55",
   "metadata": {},
   "source": [
    "## Setup"
   ]
  },
  {
   "cell_type": "code",
   "execution_count": 38,
   "id": "fab135af-d05a-477f-a2cd-ee2aa30bfbd3",
   "metadata": {},
   "outputs": [],
   "source": [
    "import numpy as np\n",
    "import matplotlib.pyplot as plt\n",
    "# local\n",
    "import fixed_income_derivatives as fid"
   ]
  },
  {
   "cell_type": "markdown",
   "id": "1e56fafd-10bb-457e-be7f-44dee7829922",
   "metadata": {},
   "source": [
    "## Problem Set 1"
   ]
  },
  {
   "cell_type": "markdown",
   "id": "329026c5-9dd3-40ae-bb42-68e8e78699a9",
   "metadata": {},
   "source": [
    "- The year consists of 12 months each with exactly 30 days \n",
    "- All payments occur at the end of day on the last day of the month. \n",
    "- There is no credit risk\n",
    "- The principal of all bonds is 100."
   ]
  },
  {
   "cell_type": "markdown",
   "id": "e252e80c-89e0-406f-9d62-c371390d2fc1",
   "metadata": {},
   "source": [
    "The date today is December 30. 2019, the last day of the year, and the BBA have just at 11 AM announced the $3 \\mathrm{M}$ LIBOR fixing to be 0.01472717 and the $6 \\mathrm{M}$ LIBOR fixing to be 0.01893706 . In addition, the following bonds are traded in the market.\n",
    "- i) A 3 year fixed rate bullet bond maturing December 30. 2020 paying quarterly simple coupons of $4 \\%$ annually and a price of 102.33689177 .\n",
    "- ii) A 5 year fixed rate bullet bond maturing December 30. 2020 paying semi-annual simple coupons of $5 \\%$ annually and a price of 104.80430234 .\n",
    "- iii) A 10 year fixed rate bullet bond maturing June 30. 2021 paying semi-annual simple coupons of 5\\% annually and a price of 105.1615306 .\n",
    "- iv) An 8 year fixed rate bullet bond maturing June 30. 2021 paying quarterly simple coupons of $6 \\%$ annually and a price of 105.6581905 .\n",
    "- v) A 5 year fixed rate bullet bond maturing December 30. 2021 paying quarterly simple coupons of $5 \\%$ annually and a price of 104.028999992 .\n",
    "- vi) A 30 year fixed rate bullet bond maturing December 30. 2021 paying annual simple coupons of $3 \\%$ annually and a price of 101.82604116 ."
   ]
  },
  {
   "cell_type": "markdown",
   "id": "88eb7455-837b-4df3-8f38-14f513c89ef6",
   "metadata": {},
   "source": [
    "### A) Set up the cashflow matrix corresponding to this information.**"
   ]
  },
  {
   "cell_type": "markdown",
   "id": "ebb64a5e-b945-45cb-9151-55f6a0667ea2",
   "metadata": {},
   "source": [
    "Firstly, let us setup the dimensions:\n",
    "$\\mathbf{C}_{N \\times M}=\\left[T_1, \\ldots, T_m, \\ldots, T_{M-1}\\right]$ \n",
    "- column [time] dimension: 9\n",
    "    - More specifically the m distinct future points in time are $T=\\{0, 0.25, 0.5, 0.75, 1, 1.25, 1.5, 1.75, 2\\}$\n",
    "- row [asset] dimension, N: 6"
   ]
  },
  {
   "cell_type": "code",
   "execution_count": 41,
   "id": "27f41503-cbc9-4239-bafd-f5fbf443e043",
   "metadata": {},
   "outputs": [
    {
     "name": "stdout",
     "output_type": "stream",
     "text": [
      "[0.   0.25 0.5  0.75 1.   1.25 1.5  1.75 2.  ]\n"
     ]
    }
   ],
   "source": [
    "# number of bonds and maturities\n",
    "delta = 0.25\n",
    "N, M = 6, 9\n",
    "tau = np.array([m*delta for m in range(0,M)])\n",
    "print(tau)"
   ]
  },
  {
   "cell_type": "markdown",
   "id": "25137e03-0ff4-4573-8fe7-5721b5287bbb",
   "metadata": {},
   "source": [
    "Furthermore, we know from the text"
   ]
  },
  {
   "cell_type": "code",
   "execution_count": 3,
   "id": "f530ddae-c41e-44b5-a3ea-4649d70f383e",
   "metadata": {},
   "outputs": [],
   "source": [
    "K = 100 # principal\n",
    "\n",
    "# LIBOR rates\n",
    "L_3M = 0.01472717\n",
    "L_6M = 0.01893706\n",
    "\n",
    "# pi matrix of prices\n",
    "pi = np.array([102.33689177, 104.80430234, 105.1615306,\n",
    "               105.6581905 , 104.028999992, 101.82604116])"
   ]
  },
  {
   "cell_type": "markdown",
   "id": "0c378bdc-640f-411b-9c54-e7a8acda4f4a",
   "metadata": {},
   "source": [
    "**Cookbook for Cashflow Matrix**\n",
    "- Remember that the payment occurs at the end of the day of the last day of the month\n",
    "- Look at maturity, not what \"x\" year the bond is \n",
    "- $\\delta = 1/m$, where m is frequency per year\n",
    "- coupons are fixed at predetermined size $c = \\delta R K $\n",
    "- Price is irrelevant for CF\n",
    "- Entire principal is repaid at time $T_M$"
   ]
  },
  {
   "cell_type": "code",
   "execution_count": 4,
   "id": "a108e330-eda2-453b-86e4-d89334fbca14",
   "metadata": {},
   "outputs": [
    {
     "name": "stdout",
     "output_type": "stream",
     "text": [
      "Rank of matrix: 6\n"
     ]
    }
   ],
   "source": [
    "C = np.zeros([N,M]) # initialize\n",
    "\n",
    "C[0,:] = [0.04*K*0.25,0.04*K*0.25,0.04*K*0.25,0.04*K*0.25,0.04*K*0.25+K,0,0,0,0]  # bond 1\n",
    "C[1,:] = [0.05*K*0.5,0,0.05*K*0.5,0,0.05*K*0.5+K,0,0,0,0] # bond 2\n",
    "C[2,:] = [0.05*K*0.5,0,0.05*K*0.5,0,0.05*K*0.5,0,0.05*K*0.5+K,0,0] # bond 3\n",
    "C[3,:] = [0.06*K*0.25,0.06*K*0.25,0.06*K*0.25,0.06*K*0.25,0.06*K*0.25,0.06*K*0.25,0.06*K*0.25+K,0,0] # bond 4\n",
    "C[4,:] = [0.05*K*0.25,0.05*K*0.25,0.05*K*0.25,0.05*K*0.25,0.05*K*0.25,0.05*K*0.25,0.05*K*0.25,0.05*K*0.25,0.05*K*0.25+K] # bond 5\n",
    "C[5,:] = [0.03*K*1,0,0,0,0.03*K*1,0,0,0,0.03*K*1+K] # bond 6 \n",
    "print(f\"Rank of matrix: {np.linalg.matrix_rank(C)}\")"
   ]
  },
  {
   "cell_type": "code",
   "execution_count": 5,
   "id": "14dfe2df-2bfe-4c23-a77b-21923faaeb7a",
   "metadata": {},
   "outputs": [
    {
     "name": "stdout",
     "output_type": "stream",
     "text": [
      "[[  1.     1.     1.     1.   101.     0.     0.     0.     0.  ]\n",
      " [  2.5    0.     2.5    0.   102.5    0.     0.     0.     0.  ]\n",
      " [  2.5    0.     2.5    0.     2.5    0.   102.5    0.     0.  ]\n",
      " [  1.5    1.5    1.5    1.5    1.5    1.5  101.5    0.     0.  ]\n",
      " [  1.25   1.25   1.25   1.25   1.25   1.25   1.25   1.25 101.25]\n",
      " [  3.     0.     0.     0.     3.     0.     0.     0.   103.  ]]\n"
     ]
    }
   ],
   "source": [
    "print(C)"
   ]
  },
  {
   "cell_type": "markdown",
   "id": "e3764e8c-d205-4f3c-ac54-1fe88a356453",
   "metadata": {},
   "source": [
    "### B) Find the Vector of Zerop Coupon Prices and Term Structure.**"
   ]
  },
  {
   "cell_type": "markdown",
   "id": "539f8d4c-e4e7-45ed-81af-665a61830b2d",
   "metadata": {},
   "source": [
    "Following the first fundamenteal theorem of asset pricing we must find a price vector of zero coupoun bonds such that\n",
    "$$\\pi = c d \\Rightarrow \\pi = c p^{\\text{ZCB}} \\Leftrightarrow p^{\\text{ZCB}} = \\pi c^{-1}$$\n",
    "\n",
    "The problem however is that we need market completeness, i.e. we need that the Cash flow matrix has rank of $M$, however it $\\text{rank}(N) < M$."
   ]
  },
  {
   "cell_type": "markdown",
   "id": "c83c399d-94b9-4497-8736-c59a077d0228",
   "metadata": {},
   "source": [
    "**How to get $\\text{rank}(N) = M$**\n",
    "\n",
    "Now using the simple compounding formula\n",
    "$L(t, T)=-\\frac{p(t, T)-1}{(T-t) p(t, T)} = \\frac{1-p(t, T)}{(T-t) p(t, T)} $ we can derive the price of ZCB in 3M and 6M from the information on LIBOR. This follows from the following derivation: \n",
    "We multiply both sides by $(T-t) p(t, T)$:\n",
    "$$\n",
    "L(t, T)(T-t) p(t, T)=1-p(t, T)\n",
    "$$\n",
    "Next, we add $p(t, T)$ to both sides to start isolating $p(t, T)$:\n",
    "$$\n",
    "L(t, T)(T-t) p(t, T)+p(t, T)=1\n",
    "$$\n",
    "Next, we can factor out $p(t, T)$ from the left side:\n",
    "$$\n",
    "p(t, T)[L(t, T)(T-t)+1]=1\n",
    "$$\n",
    "Now we can solve for $p(t, T)$ :\n",
    "$$\n",
    "p(t, T)=\\frac{1}{L(t, T)(T-t)+1}  (*)\n",
    "$$"
   ]
  },
  {
   "cell_type": "code",
   "execution_count": 6,
   "id": "57280ad8-c887-4540-b3fb-0ec59960cc6f",
   "metadata": {},
   "outputs": [
    {
     "name": "stdout",
     "output_type": "stream",
     "text": [
      "p_1 is 0.9963317133702015 and p_2 is 0.9906202821399495.\n"
     ]
    }
   ],
   "source": [
    "p = np.ones([M]) # initialize spot price vector\n",
    "\n",
    "p[1], p[2] = 1/(1+tau[1]*L_3M) , 1/(1+tau[2]*L_6M) # using (*) formula above\n",
    "print(f'p_1 is {p[1]} and p_2 is {p[2]}.')"
   ]
  },
  {
   "cell_type": "markdown",
   "id": "d9b25d53-43d0-41d8-ba2b-b68aefa631c9",
   "metadata": {},
   "source": [
    "Say we take the first bond\n",
    "$$\n",
    "\\begin{aligned}\n",
    "& \\pi_1 \\\\\n",
    "& =p(0,0) * c_0+p(0,0.25) * c_{0.25}+p(0,0.5) \\\\\n",
    "& * c_{0.5}+p(0,0.75) * c_{0.75} \\ldots+p(0,2) * c_2\n",
    "\\end{aligned}\n",
    "$$\n",
    "\n",
    "The problem is to find the vector p, we need to find the inverse of C. However, we do not have a quadratic matrix. But notice, we can move $c_0$, $c_{0.25}$ and $c_{0.5}$ to the other side since we have computed them above.  "
   ]
  },
  {
   "cell_type": "code",
   "execution_count": 7,
   "id": "7c7361e7-cf3f-4c97-bc92-fe868fe3a117",
   "metadata": {},
   "outputs": [
    {
     "data": {
      "text/plain": [
       "0.9906202821399495"
      ]
     },
     "execution_count": 7,
     "metadata": {},
     "output_type": "execute_result"
    }
   ],
   "source": [
    "p[2]"
   ]
  },
  {
   "cell_type": "code",
   "execution_count": 8,
   "id": "1337eeca-7f91-4582-82e5-3990220f37e6",
   "metadata": {},
   "outputs": [],
   "source": [
    "y = pi - p[0]*C[:,0]-p[1]*C[:,1]-p[2]*C[:,2]"
   ]
  },
  {
   "cell_type": "code",
   "execution_count": 9,
   "id": "b88ec78e-429a-472c-98b2-d8d4bf02323d",
   "metadata": {},
   "outputs": [],
   "source": [
    "# unknown know becomes\n",
    "x = C[:,3:]"
   ]
  },
  {
   "cell_type": "markdown",
   "id": "5b64078e-510f-4ac4-ad2b-a2c7ad4c46cc",
   "metadata": {},
   "source": [
    "Now we can solve for vector of zero coupon prices, $p$"
   ]
  },
  {
   "cell_type": "code",
   "execution_count": 10,
   "id": "9a3a4471-2184-46ea-9876-1ae6228516df",
   "metadata": {},
   "outputs": [
    {
     "data": {
      "text/plain": [
       "array([1.        , 0.99633171, 0.99062028, 0.98308207, 0.97392928,\n",
       "       0.96383257, 0.95366007, 0.94189432, 0.93110926])"
      ]
     },
     "execution_count": 10,
     "metadata": {},
     "output_type": "execute_result"
    }
   ],
   "source": [
    "p[3:] = np.linalg.solve(x,y)\n",
    "p"
   ]
  },
  {
   "cell_type": "markdown",
   "id": "c82e1d1e-29c3-478a-b1bf-54536a3ce5f5",
   "metadata": {},
   "source": [
    "**Term Structure**\n",
    "\n",
    "Next, we can solve for the term structure (i.e. the yield curve). The term structure of interest rates at time $t$ for maturities $T_1, T_2, \\ldots, T_M$ consists of the collection of continuously compounded annualized zero coupon spot rates $R\\left(t, T_1\\right), R\\left(t, T_2\\right), \\ldots, R\\left(t, T_M\\right)$. Thus, we use defintion 19.9 of continuously compounded zero coupon yield  in Björk to find $y(t,T) = -\\frac{\\log p(t,T) }{T-t}$, also known as the (zero coupon) yield curve."
   ]
  },
  {
   "cell_type": "code",
   "execution_count": 11,
   "id": "978503af-dc41-427f-bbfc-4c007c92ffac",
   "metadata": {},
   "outputs": [
    {
     "data": {
      "text/plain": [
       "array([0.        , 0.01470013, 0.01884797, 0.02275024, 0.02641658,\n",
       "       0.02947014, 0.031632  , 0.03420697, 0.03568933])"
      ]
     },
     "execution_count": 11,
     "metadata": {},
     "output_type": "execute_result"
    }
   ],
   "source": [
    "r = fid.zcb_to_spot_rates(tau,p)\n",
    "r"
   ]
  },
  {
   "cell_type": "markdown",
   "id": "49e58bcb-6d50-4d68-ab88-3c887f8057f2",
   "metadata": {},
   "source": [
    "### C) Find 3M Forward Rates"
   ]
  },
  {
   "cell_type": "markdown",
   "id": "c4060ee9-16f4-4e43-ad2f-1b31c902bccd",
   "metadata": {},
   "source": [
    "To find the the 3M forward rates, I use continuously compounded forwards rate for [S,T] contracted at t is defined as $\\quad R(t ; S, T)=-\\frac{\\log p(t, T)-\\log p(t, S)}{(T-S)}$"
   ]
  },
  {
   "cell_type": "code",
   "execution_count": 12,
   "id": "c66af132-a993-4874-9f00-df1ff6609db0",
   "metadata": {},
   "outputs": [
    {
     "data": {
      "text/plain": [
       "array([0.        , 0.01470013, 0.02299581, 0.03055477, 0.03741562,\n",
       "       0.04168438, 0.04244128, 0.04965681, 0.04606583])"
      ]
     },
     "execution_count": 12,
     "metadata": {},
     "output_type": "execute_result"
    }
   ],
   "source": [
    "f_3M = fid.zcb_to_forward_rates(tau,p,horizon=1)\n",
    "f_3M"
   ]
  },
  {
   "cell_type": "code",
   "execution_count": 13,
   "id": "adbcef6c-1702-4692-af58-23c77388dad6",
   "metadata": {},
   "outputs": [
    {
     "name": "stdout",
     "output_type": "stream",
     "text": [
      "Spot rates are [0.         0.01470013 0.01884797 0.02275024 0.02641658 0.02947014\n",
      " 0.031632   0.03420697 0.03568933]\n",
      "and forward rates are [0.         0.01470013 0.02299581 0.03055477 0.03741562 0.04168438\n",
      " 0.04244128 0.04965681 0.04606583]\n"
     ]
    }
   ],
   "source": [
    "print(f'Spot rates are {r}')\n",
    "print(f'and forward rates are {f_3M}')"
   ]
  },
  {
   "cell_type": "markdown",
   "id": "bb56a240-3408-4ab7-8c7a-80b4fc14e6ab",
   "metadata": {},
   "source": [
    "### D) Find the price of a 2 year floating rate bullet note with principal 100 paying $6 \\mathrm{M}$ LIBOR Issued Today "
   ]
  },
  {
   "cell_type": "markdown",
   "id": "dd994c71-536a-4dd2-8b30-39414284611e",
   "metadata": {},
   "source": [
    "If $t=T_0$ then $p(T_0)=1$ and thus $\\pi(t)=K$. \n",
    "Meaning the spot starting Floating-Rate note (FRN) must trade at par, because we accrue interest at exact same rate as we discount with. Thus, we are indifferent between receiving K dollars today or in the future. This stems from a replicating strategy argument."
   ]
  },
  {
   "cell_type": "code",
   "execution_count": 14,
   "id": "63a33966-00bc-4078-b83f-b78757b8fcda",
   "metadata": {},
   "outputs": [
    {
     "data": {
      "text/plain": [
       "100.0"
      ]
     },
     "execution_count": 14,
     "metadata": {},
     "output_type": "execute_result"
    }
   ],
   "source": [
    "pi_float = K*p[0]\n",
    "pi_float"
   ]
  },
  {
   "cell_type": "markdown",
   "id": "727758df-6f8f-42a5-84ec-ab8a7d43dfae",
   "metadata": {},
   "source": [
    "### E) Find the par swap rate for a 2-year interest rate swap paying semi-annual fixed coupons at annual rate $R$ to the 'receiver' and quarterly 3M LIBOR to the 'payer' issued today."
   ]
  },
  {
   "cell_type": "markdown",
   "id": "526b5224-d7d2-4f11-9db4-1bf28c5d414b",
   "metadata": {},
   "source": [
    "Following proposition 19.8 and in the case that initial value $T_0 = 0$ the formula reduces to this (i.e. the par swap rate)\n",
    "$R=\\frac{1-p\\left(0, T_N\\right)}{\\delta \\sum_{i=1}^{i=N} p\\left(0, T_i\\right)}$. \n",
    "- $p\\left(0, T_8\\right)$ is the discount factor at the final maturity of the swap\n",
    "- the sum in the denominator aggregates the present values of all the individual payment periods to find the total present value of the fixed leg payments of the swap.\n",
    "\n",
    "Here we have the timeline for fixed payments to occur semi-annually, which means every 0.5 years over a period of 2 years. This gives rise to payment times at $T_2, T_4, T_6$, and $T_8$ in your defined time grid. Correspondingly, $\\delta=0.5$."
   ]
  },
  {
   "cell_type": "code",
   "execution_count": 15,
   "id": "72457383-e188-4af3-a9ab-4253a0c4c208",
   "metadata": {},
   "outputs": [
    {
     "name": "stdout",
     "output_type": "stream",
     "text": [
      "S_swap is 1.9246594435005713 and R_swap is 0.03579373214423337\n"
     ]
    }
   ],
   "source": [
    "T_n = 0 \n",
    "T_N = 2 \n",
    "\n",
    "S_swap = fid.zcb_to_accrual_factor(T_n,T_N,'semiannual',tau,p)\n",
    "R_swap = fid.zcb_to_par_swap_rate(T_n,T_N,'semiannual',tau,p)\n",
    "print(f'S_swap is {S_swap} and R_swap is {R_swap}')"
   ]
  },
  {
   "cell_type": "markdown",
   "id": "8e701125-2163-430c-84c1-5774d6893659",
   "metadata": {},
   "source": [
    "### F) Compare the par swap rate to the forward rates in C)"
   ]
  },
  {
   "cell_type": "code",
   "execution_count": 16,
   "id": "052ddd6e-b805-40bd-bbf3-fb7356a09594",
   "metadata": {},
   "outputs": [
    {
     "data": {
      "image/png": "[encoded data removed]",
      "text/plain": [
       "<Figure size 1500x900 with 2 Axes>"
      ]
     },
     "metadata": {
      "needs_background": "light"
     },
     "output_type": "display_data"
    }
   ],
   "source": [
    "fig = plt.figure(constrained_layout=False, dpi=300, figsize=(5, 3))\n",
    "fig.suptitle(\"ZCB prices, spot rates and forward rates - questions a) to f)\", fontsize=9)\n",
    "gs = fig.add_gridspec(nrows=1, ncols=1, left=0.12, bottom=0.2, right=0.88, top=0.90, wspace=0, hspace=0)\n",
    "ax = fig.add_subplot(gs[0, 0])\n",
    "ax.set_xticks(tau)\n",
    "ax.set_xticklabels(tau, fontsize=6)\n",
    "ax.set_xlim([tau[0] - 0.05, tau[-1] + 0.05])\n",
    "plt.xlabel(\"Maturity\", fontsize=6)\n",
    "ax.set_yticks([0, 0.2, 0.4, 0.6, 0.8, 1])\n",
    "ax.set_yticklabels([0, 0.2, 0.4, 0.6, 0.8, 1], fontsize=6)\n",
    "ax.set_ylim([0, 1.05])\n",
    "ax.set_ylabel(\"ZCB prices\", fontsize=6)\n",
    "ax.scatter(tau, p, s=2, color='black', marker=\".\")\n",
    "\n",
    "ax1 = ax.twinx()\n",
    "ax1.set_yticks([0, 0.01, 0.02, 0.03, 0.04, 0.05])\n",
    "ax1.set_yticklabels([0, 0.01, 0.02, 0.03, 0.04, 0.05], fontsize=6)\n",
    "ax1.set_ylim([0, 0.0525])\n",
    "ax1.scatter(tau, r, s=2, color='red', marker=\".\")\n",
    "ax1.scatter(tau, f_3M, s=2, color='blue', marker=\".\")\n",
    "ax1.plot(tau, R_swap * np.ones([M]), color='green', linewidth=1, marker=\"\");"
   ]
  },
  {
   "cell_type": "markdown",
   "id": "fb519325-0d33-47d3-9735-ecc159c633cf",
   "metadata": {},
   "source": [
    "This average is front-loaded meaning that the weights applied to first forwards are larger than the weights applied to the last forwards because of discounting (early payments are worth more due to time-value-of-money). This makes sense as we must on average expect to pay and receive the same in interest. "
   ]
  },
  {
   "cell_type": "markdown",
   "id": "15f1627e-154d-4454-8b8d-6d0779fecf9c",
   "metadata": {},
   "source": [
    "### G) Set up system of equations (more unknowns) & include interest rate swap"
   ]
  },
  {
   "cell_type": "markdown",
   "id": "04095f9e-bbd8-4238-a97d-75fa6a501f16",
   "metadata": {},
   "source": [
    "Time now passes and the date becomes January 30. 2020. From a good friend you now know that the price of zero coupon bond maturing on March 30. 2020 is 0.99699147 and that the price of a zero coupon bond maturing on June 30. 2020 is 0.99088748. Because of market fluctuations, the prices of the bonds i)-vi) are now $[101.98667646,102.96333877,102.68122237,104.17312216,102.76231402,98.8174065]$ and the price of the receiver swap from e) is now 0.02515099."
   ]
  },
  {
   "cell_type": "code",
   "execution_count": 17,
   "id": "648f4ed5-333a-43fe-bd14-38acb5ef4ad6",
   "metadata": {},
   "outputs": [],
   "source": [
    "# We update our setup according to the information \n",
    "\n",
    "# move 1 month into the future\n",
    "tau_new = np.zeros([M]) \n",
    "tau_new[1:] = tau[1:] - 1/12 \n",
    "\n",
    "# pi matrix of the new prices \n",
    "pi_new = np.array([101.98667646, 102.96333877, 102.68122237,\n",
    "                    104.17312216, 102.76231402, 98.8174065])\n",
    "\n",
    "pi_swap_new = 0.02515099\n",
    "p_0_2M_new = 0.99699147\n",
    "p_0_5M_new = 0.99088748\n",
    "\n",
    "# initialize new cash flow matrix\n",
    "C_new = np.zeros([N,M]) \n",
    "C_new[:,1:] = C[:,1:]"
   ]
  },
  {
   "cell_type": "code",
   "execution_count": 18,
   "id": "ca975b01-1309-463d-b1d8-fe8c9e81d60e",
   "metadata": {},
   "outputs": [
    {
     "name": "stdout",
     "output_type": "stream",
     "text": [
      "[[  0.     1.     1.     1.   101.     0.     0.     0.     0.  ]\n",
      " [  0.     0.     2.5    0.   102.5    0.     0.     0.     0.  ]\n",
      " [  0.     0.     2.5    0.     2.5    0.   102.5    0.     0.  ]\n",
      " [  0.     1.5    1.5    1.5    1.5    1.5  101.5    0.     0.  ]\n",
      " [  0.     1.25   1.25   1.25   1.25   1.25   1.25   1.25 101.25]\n",
      " [  0.     0.     0.     0.     3.     0.     0.     0.   103.  ]]\n"
     ]
    }
   ],
   "source": [
    "print(C_new)"
   ]
  },
  {
   "cell_type": "code",
   "execution_count": 19,
   "id": "b1ea7754-f5f3-43bb-9b65-64ad09242250",
   "metadata": {},
   "outputs": [
    {
     "name": "stdout",
     "output_type": "stream",
     "text": [
      "[   0.         -100.36817925    1.78968661    0.            1.78968661\n",
      "    0.            1.78968661    0.          101.78968661]\n"
     ]
    }
   ],
   "source": [
    "# receiver swap (i.e. the one who receives the fixed coupon payments)\n",
    "C_swap = np.array([0, -K*(0.25*L_3M+1), 0.5*R_swap*K, 0, 0.5*R_swap*K, 0, 0.5*R_swap*K, 0, 0.5*R_swap*K+K])\n",
    "print(C_swap)"
   ]
  },
  {
   "cell_type": "markdown",
   "id": "03b34054-682a-4eeb-b598-e13f9bb3dfd4",
   "metadata": {},
   "source": [
    "We have to incorporate the price of the interest rate swap into our system of equations.\n",
    "- index 0: It is 0 because, at the time of initiation of the swap (time $T_0$ ), there are no cash exchanges.\n",
    "- index 1: This term signifies the first payment in the floating leg of the swap. The amount is being paid, hence the negative sign. The payment involves both the interest payment calculated using 3-month LIBOR -( $0.25 \\cdot K \\cdot L_{3 M}$ ) and the principal amount $(-K)$.\n",
    "- index 2: the net cash flow at the second payment date, where only the fixed leg makes a payment equal to $0.5 \\times R \\times K$, with $R$ being the fixed rate decided at the inception of the swap, and 0.5 representing a semi-annual payment.\n",
    "- index 3 to 8: These entries alternate between 0 and $0.5 \\times R \\times K$, representing the periodic payments from the fixed leg, which happen every 6 months, hence the repeated pattern.\n",
    "- index 8: This term represents the net cash flow at the final payment date. The fixed leg makes a payment equal to $0.5 \\times R \\times K$ (the regular semi-annual payment) plus $K$ (the final return of the notional amount at the end of the swap contract)."
   ]
  },
  {
   "cell_type": "code",
   "execution_count": 20,
   "id": "6163c723-d8f0-4bf1-9d34-d158bb06324d",
   "metadata": {},
   "outputs": [],
   "source": [
    "C_new = np.vstack([C_new,C_swap])"
   ]
  },
  {
   "cell_type": "markdown",
   "id": "d64535e3-4f40-4a84-bbcc-5afcd3807726",
   "metadata": {},
   "source": [
    "### H) Solve this system of equations to find zero coupon bond prices, zero coupon bond rates and $3 \\mathrm{M}$ forward rates"
   ]
  },
  {
   "cell_type": "markdown",
   "id": "d4c0f17d-d136-4dc5-9d31-2451a6001e62",
   "metadata": {},
   "source": [
    "Hint: If $\\mathbf{C}$ is an $N \\times M$ matrix with $N>M$ and has full rank $M$, then the rank of $\\mathbf{C}^{\\prime} \\mathbf{C}$ will also be $M$ because for real matrices it holds that $\\operatorname{rank}(C)=\\operatorname{rank}\\left(C C^T\\right)=\\operatorname{rank}\\left(C^T C\\right)$."
   ]
  },
  {
   "cell_type": "code",
   "execution_count": 21,
   "id": "e3dae3ff-b0b6-4dd5-83ce-bf49897a8f23",
   "metadata": {},
   "outputs": [],
   "source": [
    "p_new = np.ones([M])\n",
    "p_new[1], p_new[2] = p_0_2M_new, p_0_5M_new # from the text\n",
    "\n",
    "y = np.hstack([pi_new,pi_swap_new]) - p_new[1]*C_new[:,1] - p_new[2]*C_new[:,2] # using new interest swap rates\n",
    "\n",
    "x = C_new[:,3:]\n",
    "p_new[3:] = np.linalg.solve(np.matmul(np.transpose(x),x),np.matmul(np.transpose(x),y))"
   ]
  },
  {
   "cell_type": "code",
   "execution_count": 22,
   "id": "352db783-d404-405a-9a24-4cce3dd0eb01",
   "metadata": {},
   "outputs": [
    {
     "data": {
      "text/plain": [
       "array([1.        , 0.99699147, 0.99088748, 0.98383962, 0.98034612,\n",
       "       0.96309391, 0.95369837, 0.90104461, 0.9313574 ])"
      ]
     },
     "execution_count": 22,
     "metadata": {},
     "output_type": "execute_result"
    }
   ],
   "source": [
    "p_new"
   ]
  },
  {
   "cell_type": "code",
   "execution_count": 23,
   "id": "fd515940-748d-4c81-8b58-ca7e1180159a",
   "metadata": {},
   "outputs": [],
   "source": [
    "r_new, f_3M_new = np.zeros([M]), np.zeros([M])\n",
    "\n",
    "r_new = fid.zcb_to_spot_rates(tau_new,p_new)\n",
    "f_3M_new = fid.zcb_to_forward_rates(tau_new,p_new,horizon=1)"
   ]
  },
  {
   "cell_type": "code",
   "execution_count": 24,
   "id": "c5e28218-e350-4ac1-9019-13cc30bb5e91",
   "metadata": {},
   "outputs": [
    {
     "data": {
      "image/png": "[encoded data removed]",
      "text/plain": [
       "<Figure size 1500x900 with 2 Axes>"
      ]
     },
     "metadata": {
      "needs_background": "light"
     },
     "output_type": "display_data"
    }
   ],
   "source": [
    "fig2 = plt.figure(constrained_layout=False, dpi=300, figsize=(5,3))\n",
    "fig2.suptitle(\"ZCB prices, spot rates and forward rates - questions g) and h)\", fontsize=9)\n",
    "\n",
    "gs = fig2.add_gridspec(nrows=1, ncols=1, left=0.12, bottom=0.2, right=0.88, top=0.90, wspace=0, hspace=0)\n",
    "ax = fig2.add_subplot(gs[0,0])\n",
    "\n",
    "xtick_labels = [round(tau_new[i],2) for i in range(len(tau_new))]\n",
    "ax.set_xticks(tau_new)\n",
    "ax.set_xticklabels(xtick_labels, fontsize=6)\n",
    "ax.set_xlim([tau_new[0]-0.05, tau_new[-1]+0.05])\n",
    "\n",
    "plt.xlabel(\"Maturity\", fontsize=6)\n",
    "ax.set_yticks([0, 0.2, 0.4, 0.6, 0.8, 1])\n",
    "ax.set_yticklabels([0, 0.2, 0.4, 0.6, 0.8, 1], fontsize=6)\n",
    "ax.set_ylim([0, 1.05])\n",
    "ax.set_ylabel(\"ZCB prices\", fontsize=6)\n",
    "\n",
    "ax.scatter(tau_new, p_new, s=2, color='black', marker=\".\")\n",
    "ax1 = ax.twinx()\n",
    "\n",
    "ax1.set_yticks([0, 0.01, 0.02, 0.03, 0.04, 0.05])\n",
    "ax1.set_yticklabels([\"0\", \"0.01\", \"0.02\", \"0.03\", \"0.04\", \"0.05\"], fontsize=6)  # Fixed the list to contain string values\n",
    "ax1.set_ylim([0, 0.0525])\n",
    "\n",
    "ax1.scatter(tau_new, r_new, s=2, color='red', marker=\".\")\n",
    "ax1.scatter(tau_new, f_3M_new, s=2, color='blue', marker=\".\")\n",
    "plt.show()"
   ]
  },
  {
   "cell_type": "markdown",
   "id": "12424f31-0dc7-44e3-9bd3-45197fe0b309",
   "metadata": {},
   "source": [
    "## Problem Set 2"
   ]
  },
  {
   "cell_type": "markdown",
   "id": "7928fac8-44cf-48d7-b1c6-6f06254ef9e9",
   "metadata": {},
   "source": [
    "- year consists of 12 months each with exactly 30 days and that all payments occur at the end of day on the last day of the quarter. \n",
    "- assume that there is no credit risk\n",
    "- the principal of all bonds is 100\n",
    "- all interest rates are annualized. \n",
    "- The date today is January 15th 2017 but you know the LIBOR fixings from December 30. 2016 and they were $3 M$ LIBOR: 5.2\\%,6M LIBOR: $4.9 \\%, 12 \\mathrm{M}$ LIBOR: $4.76 \\%$."
   ]
  },
  {
   "cell_type": "markdown",
   "id": "573a93a9-ace6-4226-bb37-e8604d4694b5",
   "metadata": {},
   "source": [
    "The following three **interest rates swaps** are available in the market\n",
    "- A receiver swap with maturity December 30. 2017 receiving fixed semi-annual coupons of $5.1 \\%$ and paying floating quarterly $3 \\mathrm{M}$ LIBOR trading for 0.79492002. \n",
    "- A payer swap with maturity December 30. 2018 paying fixed annual coupons of $4.4 \\%$ and receiving floating semi-annual $6 \\mathrm{M}$ LIBOR trading for -1.02540877. \n",
    "- A receiver swap with maturity December 30. 2018 receiving fixed annual coupons of $4.9 \\%$ and paying floating quarterly 3M LIBOR trading for 2.05066409.\n",
    "\n",
    "In addition to the three interest rate swaps, there are also five fixed rate bullet bonds in the market.\n",
    "- A fixed rate bullet bond maturing December 30. 2017 paying quarterly simple coupons of $7 \\%$ and a price of 103.02163487.\n",
    "- A fixed rate bullet bond maturing June 30. 2018 paying semi-annual simple coupons of $5 \\%$ and a price of 101.80152680.\n",
    "- A fixed rate bullet bond maturing December 30. 2018 paying annual simple coupons of $6 \\%$ and a price of 104.48120266.\n",
    "- A fixed rate bullet bond maturing June 30. 2018 paying quarterly simple coupons of $4.5 \\%$ and a price of 101.10990798.\n",
    "- A fixed rate bullet bond maturing December 30. 2018 paying quarterly simple coupons of $5.5 \\%$ and a price of 103.67216735."
   ]
  },
  {
   "cell_type": "markdown",
   "id": "5d92b49a-09a7-4a3e-b434-2e1e5b52b57e",
   "metadata": {},
   "source": [
    "### A) Set up equations for the value of both the fixed- and floating legs in terms of the LIBOR fixings and zero coupon bond prices for the three interest rate swaps."
   ]
  },
  {
   "cell_type": "code",
   "execution_count": 25,
   "id": "490446af-17ac-450e-919c-7be08de42172",
   "metadata": {},
   "outputs": [
    {
     "data": {
      "text/plain": [
       "array([0.  , 0.25, 0.5 , 0.75, 1.  , 1.25, 1.5 , 1.75, 2.  ])"
      ]
     },
     "execution_count": 25,
     "metadata": {},
     "output_type": "execute_result"
    }
   ],
   "source": [
    "tau"
   ]
  },
  {
   "cell_type": "code",
   "execution_count": 26,
   "id": "3b8168d2-ff16-4de7-9429-9e5c670a4a7a",
   "metadata": {},
   "outputs": [],
   "source": [
    "# number of bonds and maturities\n",
    "N, M = 8, 9 \n",
    "tau = np.array([0,5/24,11/24,17/24,23/24,29/24,35/24,41/24,47/24]) # due to start in january\n",
    "\n",
    "K = 100 # principal\n",
    "\n",
    "# LIBOR rates\n",
    "L_3M = 0.052\n",
    "L_6M = 0.049\n",
    "\n",
    "R_swap_1 = 0.051\n",
    "R_swap_2 = 0.044\n",
    "R_swap_3 = 0.049\n",
    "\n",
    "# pi matrix of prices\n",
    "pi = np.array([0.79492002,-1.02540877,2.05066409,103.02163487,101.80152680,104.48120266,101.10990798,103.67216735])"
   ]
  },
  {
   "cell_type": "markdown",
   "id": "9a3b4f93-a05a-4cb0-93d9-739a7e791681",
   "metadata": {},
   "source": [
    "### B) Construct a cashflow matrix $\\mathbf{C}$ with each row corresponding to a traded assets. What is the rank of this matrix? For which maturities can you compute zcb prices?"
   ]
  },
  {
   "cell_type": "code",
   "execution_count": 27,
   "id": "2ac294af-94d2-4da7-ad40-70ae450a0f6c",
   "metadata": {},
   "outputs": [
    {
     "name": "stdout",
     "output_type": "stream",
     "text": [
      "Rank of matrix: 8\n"
     ]
    }
   ],
   "source": [
    "C = np.zeros([N,M]) # initialize\n",
    "\n",
    "C[0,:] = [0,-K*(0.25*L_3M+1),0.5*K*R_swap_1,0,0.5*K*R_swap_1+K,0,0,0,0]  # receiver swap 1, we don't know L\n",
    "C[1,:] = [0,0,K*(0.5*L_6M+1),0,-1*K*R_swap_2,0,0,0,-1*K*R_swap_2-K] # payer swap 1\n",
    "C[2,:] = [0,-K*(0.25*L_3M+1),0,0,1*K*R_swap_3,0,0,0,1*K*R_swap_3+K] # receiver swap 2\n",
    "C[3,:] = [0,0.25*K*0.07,0.25*K*0.07,0.25*K*0.07,0.25*K*0.07+K,0,0,0,0] # bond 1\n",
    "C[4,:] = [0,0,0.5*K*0.05,0,0.5*K*0.05,0,0.5*K*0.05+K,0,0] # bond 2\n",
    "C[5,:] = [0,0,0,0,1*K*0.06,0,0,0,1*K*0.06+K] # bond 3 \n",
    "C[6,:] = [0,0.25*K*0.045,0.25*K*0.045,0.25*K*0.045,0.25*K*0.045,0.25*K*0.045,0.25*K*0.045+K,0,0] # bond 4 \n",
    "C[7,:] = [0,0.25*K*0.055,0.25*K*0.055,0.25*K*0.055,0.25*K*0.055,0.25*K*0.055,0.25*K*0.055,0.25*K*0.055,0.25*K*0.055+K] # bond 5\n",
    "\n",
    "print(f\"Rank of matrix: {np.linalg.matrix_rank(C)}\")"
   ]
  },
  {
   "cell_type": "markdown",
   "id": "dc959d96-bf1f-4b9a-bf14-99850cdb9663",
   "metadata": {},
   "source": [
    "$$\n",
    "\\begin{aligned}\n",
    "& \\Pi(\\text { receiver })=\\pi(\\text { fixed legs })-\\pi(\\text { floating legs })=\\sum_{i=1}^n \\delta R K p\\left(t, T_i\\right)+p\\left(t, T_n\\right) K= \\\\\n",
    "& p\\left(t, T_1\\right) L_{-} 3 M\\left(T_{0-\\frac{1}{24}}, T_{\\frac{5}{24}}\\right)+K p\\left(t, T_{\\frac{5}{24}}\\right)\n",
    "\\end{aligned}\n",
    "$$\n",
    "\n",
    "From this we can construct $\\Pi_{8 x 1}=C_{8 x 9} * d_{9 x 1}=c_{8 x 9} * p_{9 x 1}$\n",
    "Here the ninth time point is right now, allowing us to plot the ZCB prices, including right now.\n",
    "$$\n",
    "\\Pi-C[:, 0] * P[0]=C[:, 1:]_{8 \\times 8} * p[1:]_{8 \\times 1}\n",
    "$$\n",
    "\n",
    "Always makes sure that cash flow has full rank! If there is less than full rank you will not be able to solve it."
   ]
  },
  {
   "cell_type": "markdown",
   "id": "6ca4cdec-c6af-47ae-a385-d8f7fe0822c5",
   "metadata": {},
   "source": [
    "### C) Compute ZCB prices for as many maturities as you can. Is the market complete? Is it arbitrage free?"
   ]
  },
  {
   "cell_type": "code",
   "execution_count": 28,
   "id": "7515301b-bc4d-4ae8-a49e-cee1fd799fa7",
   "metadata": {},
   "outputs": [
    {
     "name": "stdout",
     "output_type": "stream",
     "text": [
      "ZCB prices [1.         0.99060312 0.9802517  0.97073639 0.96190516 0.95363276\n",
      " 0.94581595 0.93836974 0.93122426]\n"
     ]
    }
   ],
   "source": [
    "p = np.ones([M])\n",
    "y = pi - C[:,0]\n",
    "x = C[:,1:]\n",
    "p[1:] = np.linalg.solve(x,y)\n",
    "print(f'ZCB prices {p}')"
   ]
  },
  {
   "cell_type": "markdown",
   "id": "c8ee0292-5251-4923-a1f3-a8946cddba0e",
   "metadata": {},
   "source": [
    "The market is complete since there is full rank. \n",
    "It means that we can replicate any stream of cash flow in the future that you please.\n",
    "\n",
    "Now all price entries have to be positive in the vector of zcb for there to be no arbitrage\n"
   ]
  },
  {
   "cell_type": "markdown",
   "id": "342bb64d-eb7a-40d5-af90-a5f436c5beb1",
   "metadata": {},
   "source": [
    "### D) Compute Spot and Forward Rates"
   ]
  },
  {
   "cell_type": "code",
   "execution_count": 29,
   "id": "13fb1b2a-9f7c-4694-b2aa-eb43274a184c",
   "metadata": {},
   "outputs": [
    {
     "name": "stdout",
     "output_type": "stream",
     "text": [
      "ZCB spot rates: [0.         0.04531828 0.04351833 0.04192989 0.04052809 0.03929101\n",
      " 0.03819928 0.03723584 0.03638561]\n",
      "3M forward rates: [0.         0.04531828 0.04201838 0.03901773 0.03655633 0.03454886\n",
      " 0.03292262 0.03161576 0.03057569]\n"
     ]
    }
   ],
   "source": [
    "r, f_3M = np.zeros([M]), np.zeros([M])\n",
    "\n",
    "r = fid.zcb_to_spot_rates(tau,p)\n",
    "f_3M = fid.zcb_to_forward_rates(tau,p,horizon=1)\n",
    "print(f\"ZCB spot rates: {r}\")\n",
    "print(f\"3M forward rates: {f_3M}\")"
   ]
  },
  {
   "cell_type": "markdown",
   "id": "3c9b87f6-1ba1-4927-8f3a-a20f8f5506da",
   "metadata": {},
   "source": [
    "### E) What would the prices of the 8 bonds be if all spot rates were to suddenly drop by 10 basispoints ( 0.1 percentage points)?"
   ]
  },
  {
   "cell_type": "markdown",
   "id": "8bb37ca9-b5fa-4859-8dc0-392ca58388ba",
   "metadata": {},
   "source": [
    "**Risk management**:\n",
    "\n",
    "An immidiate push to the yield curve relates to duration, \n",
    "So you construct new spot rate matrix --> compute new zbc --> compute new instrument prices. \n",
    "Since spot rates went down prices will also go down --> so the receiver will have made money!"
   ]
  },
  {
   "cell_type": "code",
   "execution_count": 30,
   "id": "93338bae-850a-49d7-b80b-3a26ba18fb24",
   "metadata": {},
   "outputs": [
    {
     "data": {
      "text/plain": [
       "array([0.        , 0.01807839, 0.0219703 , 0.02443858, 0.0216541 ,\n",
       "       0.0322323 , 0.03346435, 0.06252031, 0.03710201])"
      ]
     },
     "execution_count": 30,
     "metadata": {},
     "output_type": "execute_result"
    }
   ],
   "source": [
    "r_new"
   ]
  },
  {
   "cell_type": "code",
   "execution_count": 31,
   "id": "16e82307-f878-470a-ac60-527b610ea4d0",
   "metadata": {},
   "outputs": [
    {
     "name": "stdout",
     "output_type": "stream",
     "text": [
      "New spot rates: [-0.001       0.04431828  0.04251833  0.04092989  0.03952809  0.03829101\n",
      "  0.03719928  0.03623584  0.03538561]\n",
      "New ZCB prices: [1.         0.99080952 0.98070109 0.97142423 0.96282743 0.95478576\n",
      " 0.94719627 0.93997416 0.9330497 ]\n"
     ]
    }
   ],
   "source": [
    "r_new, p_new = fid.spot_rate_bump(tau,-0.001,tau,r,p)\n",
    "print(f\"New spot rates: {r_new}\")\n",
    "print(f\"New ZCB prices: {p_new}\")"
   ]
  },
  {
   "cell_type": "code",
   "execution_count": 32,
   "id": "c63e42a0-85df-4e8f-9e4d-c68a2295fc43",
   "metadata": {},
   "outputs": [
    {
     "name": "stdout",
     "output_type": "stream",
     "text": [
      "New bond prices: [  0.86973647  -1.1740026    2.22576323 103.11782696 101.94643885\n",
      " 104.68023231 101.25333922 103.86602576]\n"
     ]
    }
   ],
   "source": [
    "pi_new = np.matmul(C,p_new)\n",
    "print(f\"New bond prices: {pi_new}\")"
   ]
  },
  {
   "cell_type": "markdown",
   "id": "d142f567-ac0b-4b7c-b4c6-3e262efa693a",
   "metadata": {},
   "source": [
    "### F) For swap i) what would the fixed rate have had to be for the swap to trade at par?"
   ]
  },
  {
   "cell_type": "markdown",
   "id": "1468a931-0b36-49d7-92cf-62cdc5b13c70",
   "metadata": {},
   "source": [
    "One would have to make the R smaller cf. The equations"
   ]
  },
  {
   "cell_type": "code",
   "execution_count": 33,
   "id": "efafa64a-f12b-4ee2-98e6-4eaaf3fc0a7b",
   "metadata": {},
   "outputs": [
    {
     "name": "stdout",
     "output_type": "stream",
     "text": [
      "S_swap is 1.9246594435005713 and R_swap if issued today is 0.03579373214423337\n"
     ]
    },
    {
     "name": "stderr",
     "output_type": "stream",
     "text": [
      "/Users/hanschristian/Documents/GitHub/Fixed-Income-Derivatives/fixed_income_derivatives.py:83: RuntimeWarning: divide by zero encountered in divide\n",
      "  R = D/S\n",
      "/Users/hanschristian/Documents/GitHub/Fixed-Income-Derivatives/fixed_income_derivatives.py:83: RuntimeWarning: invalid value encountered in divide\n",
      "  R = D/S\n"
     ]
    }
   ],
   "source": [
    "T_n = 0 \n",
    "T_N = 1\n",
    "\n",
    "S_swap_1_new = fid.zcb_to_accrual_factor(T_n,T_N,'semiannual',tau,p_new)\n",
    "R_swap_1_new = fid.zcb_to_par_swap_rate(T_n,T_N,'quarterly',tau,p_new)\n",
    "print(f'S_swap is {S_swap} and R_swap if issued today is {R_swap}')"
   ]
  },
  {
   "cell_type": "markdown",
   "id": "9b83160f-1a44-44f6-b300-162187fc9321",
   "metadata": {},
   "source": [
    "### G) Has the owner of the receiver swap i) made a profit assuming he bought at the day of issuance? Could your conclusion have been reached already from the answer to f)?"
   ]
  },
  {
   "cell_type": "code",
   "execution_count": 34,
   "id": "682899e1-1fb0-4844-8490-16ef4b808e9f",
   "metadata": {},
   "outputs": [
    {
     "name": "stdout",
     "output_type": "stream",
     "text": [
      "C_trader: [0, 0, 2.6, 0, 2.6, 0, 2.6, 0, 102.6], pi_trader: 103.0523385081963\n"
     ]
    }
   ],
   "source": [
    "# Problem g)\n",
    "R_trader = 0.052\n",
    "C_trader = [0,0,0.5*K*R_trader,0,0.5*K*R_trader,0,0.5*K*R_trader,0,0.5*K*R_trader+K]\n",
    "pi_trader = np.matmul(C_trader,p)\n",
    "print(f\"C_trader: {C_trader}, pi_trader: {pi_trader}\")"
   ]
  },
  {
   "cell_type": "markdown",
   "id": "0a3aa6cb-67d4-464d-a4e8-224fe3d1b7a4",
   "metadata": {},
   "source": [
    "### H) Now a trader calls you and offers to sell you a fixed rate bullet bond with semi-annual coupons of $5.2 \\%$ maturing on December 30. 2018 for 100.2. Show that the inclusion of this bond into the market gives rise to an arbitrage?"
   ]
  },
  {
   "cell_type": "markdown",
   "id": "306cc46a-086e-4eab-bd0d-8d27372f5275",
   "metadata": {},
   "source": [
    "we now have more assets than states which can give rise to arbitrage. We should buy bond for 102 because it is worth 103 in the market which we can do via replicating (self-financing) portfolio. "
   ]
  },
  {
   "cell_type": "markdown",
   "id": "324126d8-a041-443e-a15f-188b98bffa03",
   "metadata": {},
   "source": [
    "$\\begin{aligned} & h_{1 x 8}^{\\prime} * C_{8 x 9}=[\\text { future cash flow from } \\mathrm{h}]=\\mathrm{a}_{1 x 9} \\\\ & h^{\\prime} *([:, 1:]=a[1:]), a^{\\prime}{ }_{8 x 1}=c^{\\prime}{ }_{9 x 8} h_{8 x 1}, h=\\left(c^{\\prime}\\right)^{-1} a^{\\prime}\\end{aligned}$"
   ]
  },
  {
   "cell_type": "code",
   "execution_count": 35,
   "id": "5c47c16e-3bcc-47d2-bbbb-909cfe1ec5e6",
   "metadata": {},
   "outputs": [
    {
     "name": "stdout",
     "output_type": "stream",
     "text": [
      "arbitrage portfolio: [-3.19490967e-02  2.55544711e-02  3.19490967e-02 -1.02549702e-17\n",
      "  2.53658537e-02  9.61475722e-01  0.00000000e+00  0.00000000e+00]\n",
      "arbitrage portfolio cashflow check: [ 0.00000000e+00 -5.69106026e-15 -7.99360578e-15 -1.79461978e-17\n",
      "  0.00000000e+00  0.00000000e+00  0.00000000e+00  0.00000000e+00\n",
      "  0.00000000e+00]\n",
      "pi_rep: 103.0523385081963\n",
      "Portfolio replicating zcb_3M: [-9.89296736e-05  2.46237841e-06 -9.77273864e-03  0.00000000e+00\n",
      "  0.00000000e+00  9.67374864e-03  0.00000000e+00  0.00000000e+00]\n",
      "Cashflow h_zcb_3M: [0.00000000e+00 1.00000000e+00 1.81820704e-16 0.00000000e+00\n",
      " 6.93889390e-18 0.00000000e+00 0.00000000e+00 0.00000000e+00\n",
      " 0.00000000e+00]\n",
      "Price h_zcb_3M: 0.9906031214634189\n"
     ]
    }
   ],
   "source": [
    "y = np.transpose(C_trader[1:])\n",
    "x = np.transpose(C[:,1:])\n",
    "h_rep = np.linalg.solve(x,y)\n",
    "pi_rep = np.matmul(h_rep,pi)\n",
    "print(f\"arbitrage portfolio: {h_rep}\")\n",
    "print(f\"arbitrage portfolio cashflow check: {np.matmul(h_rep,C)-C_trader}\")\n",
    "print(f\"pi_rep: {pi_rep}\")\n",
    "\n",
    "C_zcb_3M = np.zeros([M])\n",
    "C_zcb_3M[1] = 1\n",
    "y = np.transpose(C_zcb_3M[1:])\n",
    "h_zcb_3M = np.linalg.solve(x,y)\n",
    "C_zcb_3M = np.matmul(np.transpose(h_zcb_3M),C)\n",
    "pi_zcb_3M = np.matmul(h_zcb_3M,pi)\n",
    "print(f\"Portfolio replicating zcb_3M: {h_zcb_3M}\")\n",
    "print(f\"Cashflow h_zcb_3M: {C_zcb_3M}\")\n",
    "print(f\"Price h_zcb_3M: {pi_zcb_3M}\")"
   ]
  },
  {
   "cell_type": "markdown",
   "id": "84e10177-f887-443d-aaed-2e5c30993109",
   "metadata": {},
   "source": [
    "### I) construct an Arbitrage type 1 and an Arbitrage type II. Which one is better or are they equally good?"
   ]
  },
  {
   "cell_type": "markdown",
   "id": "90a8f1dd-9fcc-408b-9570-81173ed19221",
   "metadata": {},
   "source": [
    "The difference is really just whether you want positive cash flow now and no negative in the future (shorting), and something that gives you nothing today and with certain cash flow in the future."
   ]
  },
  {
   "cell_type": "code",
   "execution_count": null,
   "id": "818fa82a-5962-4a6c-859b-dd04462b8dae",
   "metadata": {},
   "outputs": [],
   "source": []
  }
 ],
 "metadata": {
  "kernelspec": {
   "display_name": "Python 3 (ipykernel)",
   "language": "python",
   "name": "python3"
  },
  "language_info": {
   "codemirror_mode": {
    "name": "ipython",
    "version": 3
   },
   "file_extension": ".py",
   "mimetype": "text/x-python",
   "name": "python",
   "nbconvert_exporter": "python",
   "pygments_lexer": "ipython3",
   "version": "3.9.12"
  }
 },
 "nbformat": 4,
 "nbformat_minor": 5
}
