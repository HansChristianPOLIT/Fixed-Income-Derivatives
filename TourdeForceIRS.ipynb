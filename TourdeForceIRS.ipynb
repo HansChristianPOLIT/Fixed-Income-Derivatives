{
 "cells": [
  {
   "cell_type": "markdown",
   "id": "ad2be9d0-5770-4b9c-b11c-3bc98a87a950",
   "metadata": {},
   "source": [
    "# Interest Rate Swaps - Problem Set 1.2 & 7"
   ]
  },
  {
   "cell_type": "markdown",
   "id": "c11694dc-d10f-4a97-a75e-65056d888a55",
   "metadata": {},
   "source": [
    "## Setup"
   ]
  },
  {
   "cell_type": "code",
   "execution_count": 3,
   "id": "fab135af-d05a-477f-a2cd-ee2aa30bfbd3",
   "metadata": {},
   "outputs": [],
   "source": [
    "import numpy as np\n",
    "import matplotlib.pyplot as plt\n",
    "# local\n",
    "import fixed_income_derivatives as fid"
   ]
  },
  {
   "cell_type": "markdown",
   "id": "1e56fafd-10bb-457e-be7f-44dee7829922",
   "metadata": {},
   "source": [
    "## Problem Set 1"
   ]
  },
  {
   "cell_type": "markdown",
   "id": "329026c5-9dd3-40ae-bb42-68e8e78699a9",
   "metadata": {},
   "source": [
    "- The year consists of 12 months each with exactly 30 days \n",
    "- All payments occur at the end of day on the last day of the month. \n",
    "- There is no credit risk\n",
    "- The principal of all bonds is 100."
   ]
  },
  {
   "cell_type": "code",
   "execution_count": null,
   "id": "2dba99d7-40fc-4450-bea6-5c9ee1eb55d9",
   "metadata": {},
   "outputs": [],
   "source": []
  },
  {
   "cell_type": "code",
   "execution_count": null,
   "id": "46158e29-d95a-4363-ad36-f95a00ee57f1",
   "metadata": {},
   "outputs": [],
   "source": []
  },
  {
   "cell_type": "code",
   "execution_count": null,
   "id": "b800a145-d56a-42a1-b6c7-e7c9c00a6772",
   "metadata": {},
   "outputs": [],
   "source": []
  },
  {
   "cell_type": "code",
   "execution_count": null,
   "id": "27f41503-cbc9-4239-bafd-f5fbf443e043",
   "metadata": {},
   "outputs": [],
   "source": []
  },
  {
   "cell_type": "markdown",
   "id": "7928fac8-44cf-48d7-b1c6-6f06254ef9e9",
   "metadata": {},
   "source": [
    "Assume the year consists of 12 months each with exactly 30 days and that all payments occur at the end of day on the last day of the quarter. Also assume that there is no credit risk, that the principal of all bonds is 100 and that all interest rates are annualized. The date today is January 15th 2017 but you know the LIBOR fixings from December 30. 2016 and they were $3 M$ LIBOR: 5.2\\%,6M LIBOR: $4.9 \\%, 12 \\mathrm{M}$ LIBOR: $4.76 \\%$."
   ]
  },
  {
   "cell_type": "markdown",
   "id": "573a93a9-ace6-4226-bb37-e8604d4694b5",
   "metadata": {},
   "source": [
    "The following three **interest rates swaps** are available in the market \\\n",
    "i) A receiver swap with maturity December 30. 2017 receiving fixed semi-annual coupons of $5.1 \\%$ and paying floating quarterly $3 \\mathrm{M}$ LIBOR trading for 0.79492002. \\\n",
    "ii) A payer swap with maturity December 30. 2018 paying fixed annual coupons of $4.4 \\%$ and receiving floating semi-annual $6 \\mathrm{M}$ LIBOR trading for -1.02540877. \\\n",
    "iii) A receiver swap with maturity December 30. 2018 receiving fixed annual coupons of $4.9 \\%$ and paying floating quarterly 3M LIBOR trading for 2.05066409.\n",
    "\n",
    "In addition to the three interest rate swaps, there are also five fixed rate bullet bonds in the market.\\\n",
    "iv) A fixed rate bullet bond maturing December 30. 2017 paying quarterly simple coupons of $7 \\%$ and a price of 103.02163487.\\\n",
    "v) A fixed rate bullet bond maturing June 30. 2018 paying semi-annual simple coupons of $5 \\%$ and a price of 101.80152680.\\\n",
    "vi) A fixed rate bullet bond maturing December 30. 2018 paying annual simple coupons of $6 \\%$ and a price of 104.48120266.\\\n",
    "vii) A fixed rate bullet bond maturing June 30. 2018 paying quarterly simple coupons of $4.5 \\%$ and a price of 101.10990798.\\\n",
    "viii) A fixed rate bullet bond maturing December 30. 2018 paying quarterly simple coupons of $5.5 \\%$ and a price of 103.67216735.\\"
   ]
  },
  {
   "cell_type": "code",
   "execution_count": null,
   "id": "ae268522-d8b4-4862-8adf-740d63056cbd",
   "metadata": {},
   "outputs": [],
   "source": [
    "N, M = 8, 9\n",
    "K = 100\n",
    "T = np.array([0,5/24,11/24,17/24,23/24,29/24,35/24,41/24,47/24])\n",
    "C = np.zeros([N,M])\n",
    "L_3M, L_6M = 0.052, 0.049\n",
    "R_1, R_2, R_3 = 0.051, 0.044, 0.049\n",
    "pi = np.array([0.79492002,-1.02540877,2.05066409,103.02163487,101.8015268,104.48120266,101.10990798,103.67216735])\n",
    "\n",
    "# Problem b)\n",
    "C[0,:] = [0,-K*(0.25*L_3M+1),0.5*K*R_1,0,0.5*K*R_1+K,0,0,0,0]\n",
    "C[1,:] = [0,0,K*(0.5*L_6M+1),0,-K*R_2,0,0,0,-K*R_2-K]\n",
    "C[2,:] = [0,-K*(0.25*L_3M+1),0,0,K*R_3,0,0,0,K*R_3+K]\n",
    "C[3,:] = [0,0.25*K*0.07,0.25*K*0.07,0.25*K*0.07,0.25*K*0.07+K,0,0,0,0]\n",
    "C[4,:] = [0,0,0.5*K*0.05,0,0.5*K*0.05,0,0.5*K*0.05+K,0,0]\n",
    "C[5,:] = [0,0,0,0,K*0.06,0,0,0,K*0.06+K]\n",
    "C[6,:] = [0,0.25*K*0.045,0.25*K*0.045,0.25*K*0.045,0.25*K*0.045,0.25*K*0.045,0.25*K*0.045+K,0,0]\n",
    "C[7,:] = [0,0.25*K*0.055,0.25*K*0.055,0.25*K*0.055,0.25*K*0.055,0.25*K*0.055,0.25*K*0.055,0.25*K*0.055,0.25*K*0.055+K]\n",
    "print(f\"Rank of matrix: {np.linalg.matrix_rank(C)}\")\n",
    "\n",
    "# Problem c)\n",
    "p = np.ones([M])\n",
    "y = pi - C[:,0]\n",
    "x = C[:,1:]\n",
    "p[1:] = np.linalg.solve(x,y)\n",
    "print(f\"ZCB prices: {p}\")\n",
    "\n",
    "# Problem d)\n",
    "r, f_3M = np.zeros([M]), np.zeros([M])\n",
    "for i in range(1,M):\n",
    "    r[i] = -np.log(p[i])/T[i]\n",
    "    f_3M[i] = -(np.log(p[i])-np.log(p[i-1]))/(T[i]-T[i-1])\n",
    "print(f\"ZCB spot rates: {r}\")\n",
    "print(f\"3M forward rates: {f_3M}\")\n",
    "\n",
    "# problem e)\n",
    "r_new, p_new = np.zeros([M]), np.ones([M])\n",
    "for i in range(1,M):\n",
    "    r_new[i] = r[i] - 0.001\n",
    "    p_new[i] = np.exp(-T[i]*r_new[i])\n",
    "pi_new = np.matmul(C,p_new)\n",
    "print(f\"New spot rates: {r_new}\")\n",
    "print(f\"New ZCB prices: {p_new}\")\n",
    "print(f\"New bond prices: {pi_new}\")\n",
    "\n",
    "# Problem f)\n",
    "R_swap = (K*(0.25*L_3M+1)*p[1] - K*p[4])/(K*0.5*p[2]+K*0.5*p[4] )\n",
    "print(f\"R_swap if issued today: {R_swap}\")\n",
    "\n",
    "# Problem g)\n",
    "R_trader = 0.052\n",
    "C_trader = [0,0,0.5*K*R_trader,0,0.5*K*R_trader,0,0.5*K*R_trader,0,0.5*K*R_trader+K]\n",
    "pi_trader = np.matmul(C_trader,p)\n",
    "print(f\"C_trader: {C_trader}, pi_trader: {pi_trader}\")\n",
    "\n",
    "# Problem h)\n",
    "y = np.transpose(C_trader[1:])\n",
    "x = np.transpose(C[:,1:])\n",
    "h_rep = np.linalg.solve(x,y)\n",
    "pi_rep = np.matmul(h_rep,pi)\n",
    "print(f\"arbitrage portfolio: {h_rep}\")\n",
    "print(f\"arbitrage portfolio cashflow check: {np.matmul(h_rep,C)-C_trader}\")\n",
    "print(f\"pi_rep: {pi_rep}\")\n",
    "\n",
    "C_zcb_3M = np.zeros([M])\n",
    "C_zcb_3M[1] = 1\n",
    "y = np.transpose(C_zcb_3M[1:])\n",
    "h_zcb_3M = np.linalg.solve(x,y)\n",
    "C_zcb_3M = np.matmul(np.transpose(h_zcb_3M),C)\n",
    "pi_zcb_3M = np.matmul(h_zcb_3M,pi)\n",
    "print(f\"Portfolio replicating zcb_3M: {h_zcb_3M}\")\n",
    "print(f\"Cashflow h_zcb_3M: {C_zcb_3M}\")\n",
    "print(f\"Price h_zcb_3M: {pi_zcb_3M}\")\n",
    "\n",
    "fig = plt.figure(constrained_layout=False, dpi = 300, figsize = (5,3))   #\n",
    "fig.suptitle(f\"ZCB prices, spot rates and forward rates - question d)\", fontsize = 9)\n",
    "gs = fig.add_gridspec(nrows=1,ncols=1,left=0.12,bottom=0.2,right=0.88,top=0.90,wspace=0,hspace=0)\n",
    "ax = fig.add_subplot(gs[0,0])\n",
    "\n",
    "xtick_labels = [round(T[i],2) for i in range(0,M)]\n",
    "ax.set_xticks(T)\n",
    "ax.set_xticklabels(xtick_labels,fontsize = 6)\n",
    "ax.set_xlim([T[0]-0.05,T[-1]+0.05])\n",
    "plt.xlabel(f\"Maturity\",fontsize = 6)\n",
    "ax.set_yticks([0,0.2,0.4,0.6,0.8,1])\n",
    "ax.set_yticklabels([0,0.2,0.4,0.6,0.8,1],fontsize = 6)\n",
    "ax.set_ylim([0,1.05])\n",
    "ax.set_ylabel(f\"ZCB prices\",fontsize = 6)\n",
    "ax.scatter(T, p, s = 2, color = 'black', marker = \".\")\n",
    "\n",
    "ax1 = ax.twinx()\n",
    "ax1.set_yticks([0,0.01,0.02,0.03,0.04,0.05])\n",
    "ax1.set_yticklabels([0,0.01,0.02,0.03,0.04,0.05,0.05],fontsize = 6)\n",
    "ax1.set_ylim([0,0.0525])\n",
    "ax1.scatter(T, r, s = 2, color = 'red', marker = \".\")\n",
    "ax1.scatter(T, f_3M, s = 2, color = 'blue', marker = \".\")\n",
    "\n",
    "plt.show()\n"
   ]
  }
 ],
 "metadata": {
  "kernelspec": {
   "display_name": "Python 3 (ipykernel)",
   "language": "python",
   "name": "python3"
  },
  "language_info": {
   "codemirror_mode": {
    "name": "ipython",
    "version": 3
   },
   "file_extension": ".py",
   "mimetype": "text/x-python",
   "name": "python",
   "nbconvert_exporter": "python",
   "pygments_lexer": "ipython3",
   "version": "3.9.12"
  }
 },
 "nbformat": 4,
 "nbformat_minor": 5
}
