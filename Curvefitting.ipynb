{
 "cells": [
  {
   "cell_type": "markdown",
   "id": "fcaf952c-2745-422e-9686-51c2c1229e62",
   "metadata": {},
   "source": [
    "# curve fitting - exam preparation"
   ]
  },
  {
   "cell_type": "markdown",
   "id": "029ba249-a52e-4030-8293-b897552aee52",
   "metadata": {},
   "source": [
    "\\begin{aligned}\n",
    "&\\text { Assume you have the following market data available }\\\\\n",
    "&\\begin{array}{|c|c|c|c|c|c|}\n",
    "\\hline \\text { EURIBOR } & \\text { Fixing } & \\text { FRA } & \\text { Midquote } & \\text { IRS } & \\text { Midquote } \\\\\n",
    "\\hline 6 \\mathrm{M} & 0.03478 & 1 \\mathrm{X} 7 & 0.03743 & 2 \\mathrm{Y} & 0.04377 \\\\\n",
    "& & 2 \\mathrm{X} 8 & 0.03871 & 3 \\mathrm{Y} & 0.04625 \\\\\n",
    "& & 3 \\mathrm{X} 9 & 0.03989 & 4 \\mathrm{Y} & 0.04777 \\\\\n",
    "& & 4 \\mathrm{X} 10 & 0.04098 & 5 \\mathrm{Y} & 0.04875 \\\\\n",
    "& & 5 \\mathrm{X} 11 & 0.04198 & 7 \\mathrm{Y} & 0.04992 \\\\\n",
    "& & 6 \\mathrm{X} 12 & 0.04289 & 10 \\mathrm{Y} & 0.05081 \\\\\n",
    "& & 7 \\mathrm{X} 13 & 0.04374 & 15 \\mathrm{Y} & 0.05148 \\\\\n",
    "& & 8 \\mathrm{X} 14 & 0.04452 & 20 \\mathrm{Y} & 0.05181 \\\\\n",
    "& & 9 \\mathrm{X} 15 & 0.04524 & 30 \\mathrm{Y} & 0.05211 \\\\\n",
    "\\hline\n",
    "\\end{array}\n",
    "\\end{aligned}"
   ]
  },
  {
   "cell_type": "markdown",
   "id": "5a4a3ce8-6654-4593-9604-6896bd00233e",
   "metadata": {},
   "source": [
    "Also assume that the interest rate swaps pay $6 \\mathrm{M}$ EURIBOR semiannually against a fixed rate also paid semiannually.a) Fit the zero coupon curve and compute spot rates, instantaneous forward rates and the par swap rate curve.\n",
    "\n",
    "Note, fixing is the known points!"
   ]
  },
  {
   "cell_type": "markdown",
   "id": "74cc09d1-f5c8-4222-a65a-dbbdca87f5f0",
   "metadata": {},
   "source": [
    "a) Fit the zero coupon curve and compute spot rates, instantaneous forward rates and the par swap rate curve."
   ]
  },
  {
   "cell_type": "code",
   "execution_count": 1,
   "id": "33bfe0e9-1282-4d32-b64e-cc06cde4a1b2",
   "metadata": {},
   "outputs": [],
   "source": [
    "import numpy as np\n",
    "from scipy.stats import norm, ncx2, gamma\n",
    "import matplotlib.pyplot as plt\n",
    "import fixed_income_derivatives as fid\n",
    "from scipy.optimize import minimize"
   ]
  },
  {
   "cell_type": "code",
   "execution_count": null,
   "id": "dc9f349b-f3eb-4980-97af-f5ff0402f67e",
   "metadata": {},
   "outputs": [],
   "source": [
    "# reconstruct data using picture from phone\n",
    "#provide type of interpolation\n",
    "\n",
    "data = Euribor_fiing + fra_market + swap:market\n",
    "interpolation_options = {\"method\": \"linear\"} # hermite degree: 3\n",
    "\n",
    "T_cuve, R_curve, data = fid.zcb_curve_fit(data, interpolaton_options = interpolation_options)\n",
    "p_curve = fid.spot_rates_to_zcb(T_curve, R_curve)\n",
    "\n",
    "# par swap rate\n",
    "R_swap_plot = np.zeros([len(T_curve)])\n",
    "for i in range(1,len(R_swap_plot)):\n",
    "    # maturity = T_curve[i]\n",
    "    S_swap = 0\n",
    "    for j in range(0,i+1):\n",
    "        S_swap += 0.5*p_curve[j]\n",
    "    R_swap_plot[i] = (1-p_curve[i])/S_swap\n",
    "\n",
    "R_swap_plot # start for maturity of 1 year, since by construction value is zero for 6 month as they exchange 1 fixed for 1 floating"
   ]
  },
  {
   "cell_type": "markdown",
   "id": "cb681322-7e2d-40cf-b2ed-222c7b306a0a",
   "metadata": {},
   "source": [
    "When plotting r_swap we cannot plot interpolated values."
   ]
  },
  {
   "cell_type": "markdown",
   "id": "373dda36-99b5-4765-aebb-225e9572e022",
   "metadata": {},
   "source": [
    "The par swap rate lies almost on top of spot rates, since ZCB and swaps are not all that different since intermediate cash flows tend to net out."
   ]
  },
  {
   "cell_type": "code",
   "execution_count": null,
   "id": "0ea6d9be-b0ea-48b4-aa09-14f6f4324144",
   "metadata": {},
   "outputs": [],
   "source": [
    "#p_inter, _inter, f_inter, T_inter = fid.zcb_curve_interpolation(T_fit, R_fit, interoplation_options = , resolution = 1) # 1 means data points iith montly frequence"
   ]
  },
  {
   "cell_type": "code",
   "execution_count": null,
   "id": "0dc6581d-8358-49a8-b3a5-5293bf57dee9",
   "metadata": {},
   "outputs": [],
   "source": [
    "# If we want finer grid\n",
    "# construct vector for which points we want interpolated balue\n",
    "#T_inter = [i*1/12 for i in range(6,12,*30)]\n",
    "#R_inter ? fid.interpolation\n",
    "#p_inter = fid.spot_rates_to_zcb\n",
    "#f_inter = fid:zcn_to_foward_rates"
   ]
  },
  {
   "cell_type": "markdown",
   "id": "767d5593-eb61-40ff-8615-dee34c1fed36",
   "metadata": {},
   "source": [
    "the forward rate curve is not at all continous, as it jumps at knot points. This hinges on the lack of differentiable spot rate curve, which was constructed using linear interpolatino, hence why we get the kinks at knot points. although zcb looks farily alright, but still room for improvement"
   ]
  },
  {
   "cell_type": "code",
   "execution_count": 2,
   "id": "138c2b3a-a3f4-46fc-ad73-b26a6e7fad36",
   "metadata": {},
   "outputs": [],
   "source": [
    "## herminte is a type of polynomial and degree = 1 is linear interpolation.\n",
    "# the problem with linear interpolation is. Using hermite makes it more smooth, bnut still sometjign dissatisfying around 2 yeras. But higher degree we can smooth more., maybe batter at ronft end but not as good at back end. 2 or 3 is enough!"
   ]
  },
  {
   "cell_type": "code",
   "execution_count": null,
   "id": "2760b96b-8882-45b6-acd5-35c96664ad31",
   "metadata": {},
   "outputs": [],
   "source": [
    "# par swap rate curve\n",
    "T_swap = np.array([i for i in range(1,31)])\n",
    "R_Swap, S__swap = np.zeros([len(T_swap)]), np.zeros([T_swap)])\n",
    "for i, maturity in enumerate(T_swap):\n",
    "    S_swap[i] = zcb_to_accrual_ractor(0,T_Swap[i], \"semiannual\", T_inter,p_interp)\n",
    "    R_swap[i] = fid.zcb_to_par_swap_rate(0,T_swap[i],\"semiannual\", T_inter,p_interp)) # first entry is begining but we could let it be forward starting swap, \n"
   ]
  },
  {
   "cell_type": "markdown",
   "id": "3ab7ed2b-a8bc-469c-b562-02bde0971e1c",
   "metadata": {},
   "source": [
    "the paraswap rats are smack on top of spot rates. "
   ]
  },
  {
   "cell_type": "markdown",
   "id": "beb01ab1-b24c-4588-9e36-21aa8bdeb7d9",
   "metadata": {},
   "source": [
    "## b) bump curve"
   ]
  },
  {
   "cell_type": "markdown",
   "id": "21268e6d-47bf-4568-b172-0c27505e6841",
   "metadata": {},
   "source": [
    "we are asked to bump entry 59 (i.e. the last entry) with some amount, 0.0001 "
   ]
  },
  {
   "cell_type": "markdown",
   "id": "b6119a62-1560-44a1-adb2-b3264ba62151",
   "metadata": {},
   "source": [
    "the rate goes up, so you go up as you pay fixed, as others pay 1bps more than you!"
   ]
  },
  {
   "cell_type": "code",
   "execution_count": null,
   "id": "2312f3d7-3244-4aaf-9457-840e0acd0365",
   "metadata": {},
   "outputs": [],
   "source": [
    "DV=1 = (R_swap-swap_armetk)*Swap # PnL"
   ]
  },
  {
   "cell_type": "markdown",
   "id": "0121b384-2a82-4f17-99de-a12106ae7934",
   "metadata": {},
   "source": [
    "you make 15bps of the notional if entire curve is bumped 1bps"
   ]
  },
  {
   "cell_type": "markdown",
   "id": "3a9a47f5-eff1-4f41-85ba-0c50b1d9345b",
   "metadata": {},
   "source": [
    "print s_wap to make sure close to duation (or simply accrual factor)"
   ]
  },
  {
   "cell_type": "markdown",
   "id": "2e4cb692-1454-446a-8031-a9f3c501fd2d",
   "metadata": {},
   "source": [
    "c) say you have position in 30 year swap, suppose par-swap inceases 1 bps. with accrual factor 15 the results 14 is not surprising, remember smei annually!"
   ]
  },
  {
   "cell_type": "markdown",
   "id": "a8e588b4-deb3-4391-a805-53e4da2627c5",
   "metadata": {},
   "source": [
    "c) PnL"
   ]
  },
  {
   "cell_type": "markdown",
   "id": "0e7e654e-6ebf-4fd9-9f9b-c56334e44cb8",
   "metadata": {},
   "source": [
    "Notice, there is no 7 year swap. had it been 5 year swap, since we simply could have since it has become a 4 year swap which is in the market quote, 0.4777, there you would change i par_swap rate \\times s (so you would just need to compute s). Instead we compuite par swap rate for 6 year. So compute s,R"
   ]
  },
  {
   "cell_type": "markdown",
   "id": "91022741-7d0c-4351-a592-32da854ba1da",
   "metadata": {},
   "source": [
    "PnL is positive 0.7%, this makes sense as our buddy entered swap at 4.8% and now the rates are 4.49%, thus he must have made money on the position since he is payer he made money. Had he sold we should change line:\n",
    "\"Pnl 0 (R_swap - R_pos)*S_wap\" to \"Pnl 0 (R_pos-R_swap)*S_wap\""
   ]
  },
  {
   "cell_type": "code",
   "execution_count": null,
   "id": "ea120304-f0ec-46f0-bfc1-20a45a32404b",
   "metadata": {},
   "outputs": [],
   "source": []
  }
 ],
 "metadata": {
  "kernelspec": {
   "display_name": "Python 3 (ipykernel)",
   "language": "python",
   "name": "python3"
  },
  "language_info": {
   "codemirror_mode": {
    "name": "ipython",
    "version": 3
   },
   "file_extension": ".py",
   "mimetype": "text/x-python",
   "name": "python",
   "nbconvert_exporter": "python",
   "pygments_lexer": "ipython3",
   "version": "3.9.12"
  }
 },
 "nbformat": 4,
 "nbformat_minor": 5
}
