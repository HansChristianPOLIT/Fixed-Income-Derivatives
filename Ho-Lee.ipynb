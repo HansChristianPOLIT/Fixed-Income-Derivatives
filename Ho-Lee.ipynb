{
 "cells": [
  {
   "cell_type": "markdown",
   "id": "85367223-68ad-4fa8-8b13-503fd1b45ce4",
   "metadata": {},
   "source": [
    "# Exam Preparation: Ho-Lee"
   ]
  },
  {
   "cell_type": "markdown",
   "id": "15a4cac7-c39c-4c56-a552-21a039504414",
   "metadata": {
    "jp-MarkdownHeadingCollapsed": true,
    "tags": []
   },
   "source": [
    "## Setup"
   ]
  },
  {
   "cell_type": "code",
   "execution_count": 2,
   "id": "e8ef165d-df26-4e94-b05d-f04213f10414",
   "metadata": {},
   "outputs": [],
   "source": [
    "import numpy as np\n",
    "from scipy.stats import norm, ncx2, gamma\n",
    "from scipy.optimize import minimize\n",
    "import matplotlib.pyplot as plt\n",
    "\n",
    "# Global settings for LaTeX rendering\n",
    "plt.rcParams['text.usetex'] = True\n",
    "plt.rcParams['font.family'] = 'serif'\n",
    "plt.rcParams['mathtext.fontset'] = 'cm'\n",
    "\n",
    "# local\n",
    "import fixed_income_derivatives as fid"
   ]
  },
  {
   "cell_type": "markdown",
   "id": "d6cdc325-6e4f-4ec0-8268-7c1f5b6d210c",
   "metadata": {
    "jp-MarkdownHeadingCollapsed": true,
    "tags": []
   },
   "source": [
    "## Fitting the Model"
   ]
  },
  {
   "cell_type": "markdown",
   "id": "797b6b58-3075-48f8-a5fa-3ab0da910c91",
   "metadata": {},
   "source": [
    "We consider the Ho-Lee model in which the short rate has dynamics\n",
    "$$\n",
    "d r_t=\\Theta(t) d t+\\sigma d W_t\n",
    "$$\n",
    "\n",
    "**Objective**: fit the model to observed forward rates extracted from the market. \n",
    "Assume that we observe the forward rates given in the vector $f^*$.\n",
    "To estimate $\\Theta(t)$ in the Ho-Lee model, we will fit a Nelson-Sigel type function $f(T)$ to the observed prices $f^*$.\n",
    "$$\n",
    "f(T)=f_{\\infty}+a_0 e^{-b_0 T}+a_1 T e^{-b_1 T}+\\ldots=f_{\\infty}+a_0 e^{-b_0 T}+\\sum_{k=1}^K a_k T^k e^{-b_k T}, \\quad b_i>0\n",
    "$$\n",
    "\n",
    "How many terms to include in the fit is governed by $K$. We assume a functional form: Nelson-Siegel.\n",
    "* More K than parameters.\n",
    "* $f_{\\infty}$ governs the long run behavior of the function, as $T$ tends to infinity the two other terms goes to zero. \n",
    "* Short term behavior $f_{\\infty}+a_0$, where $a$ can be positive or negative. \n",
    "* The higher order terms can produce a hump."
   ]
  },
  {
   "cell_type": "markdown",
   "id": "3d9c98c1-1753-47eb-bb4e-b8e8a9448d6e",
   "metadata": {},
   "source": [
    "### Generate Synthetic Market Data"
   ]
  },
  {
   "cell_type": "markdown",
   "id": "687c4e9e-b7fe-4fce-9792-6196254fd057",
   "metadata": {},
   "source": [
    "Firstly, we generate some market data we wish to fit to:"
   ]
  },
  {
   "cell_type": "code",
   "execution_count": 5,
   "id": "de0d2727-0fb5-45d0-add7-36d6b00bbf6c",
   "metadata": {},
   "outputs": [],
   "source": [
    "M = 101\n",
    "T = np.array([0.1*i for i in range(0,M)])\n",
    "\n",
    "# # Parameters used to generate the data\n",
    "f_inf_star, a_star, b_star, sigma_star = 0.04, [-0.02,0.01,0.005], [0.5,0.2,0.8], 0.02\n",
    "param = f_inf_star, a_star, b_star\n",
    "f_star_data = fid.f_ns(param,T)\n",
    "#print(f_star_data)"
   ]
  },
  {
   "cell_type": "markdown",
   "id": "779fe63e-7e2f-423e-8265-c43ab5bbdf93",
   "metadata": {},
   "source": [
    "### Plot Spot and Forward Rates"
   ]
  },
  {
   "cell_type": "code",
   "execution_count": 89,
   "id": "bfba1dc6-f02c-416f-ad17-2325b2817274",
   "metadata": {},
   "outputs": [],
   "source": [
    "# Initial parameter values\n",
    "f_inf_0 = (0.03,)\n",
    "a_0 = -0.05, 0.03, 0.001\n",
    "b_0 = 0.35, 0.35, 0.7\n",
    "scaling = 10e12"
   ]
  },
  {
   "cell_type": "code",
   "execution_count": null,
   "id": "3cadd94f-2f4f-4fb8-add7-d8038c7038bc",
   "metadata": {},
   "outputs": [],
   "source": [
    "K = len(a_0) - 1\n",
    "param_0 = f_inf_0 + a_0 + b_0"
   ]
  },
  {
   "cell_type": "code",
   "execution_count": 90,
   "id": "ab04b402-98f4-437f-a739-bc6518f96e25",
   "metadata": {},
   "outputs": [
    {
     "ename": "TypeError",
     "evalue": "object of type 'int' has no len()",
     "output_type": "error",
     "traceback": [
      "\u001b[0;31m---------------------------------------------------------------------------\u001b[0m",
      "\u001b[0;31mTypeError\u001b[0m                                 Traceback (most recent call last)",
      "Input \u001b[0;32mIn [90]\u001b[0m, in \u001b[0;36m<cell line: 2>\u001b[0;34m()\u001b[0m\n\u001b[1;32m      1\u001b[0m \u001b[38;5;66;03m# print(f\"Unconstrained optimization\")\u001b[39;00m\n\u001b[0;32m----> 2\u001b[0m result \u001b[38;5;241m=\u001b[39m \u001b[43mminimize\u001b[49m\u001b[43m(\u001b[49m\u001b[43mfit_forward_rate_ns_obj\u001b[49m\u001b[43m,\u001b[49m\u001b[43mparam_0\u001b[49m\u001b[43m,\u001b[49m\u001b[43mmethod\u001b[49m\u001b[43m \u001b[49m\u001b[38;5;241;43m=\u001b[39;49m\u001b[43m \u001b[49m\u001b[38;5;124;43m'\u001b[39;49m\u001b[38;5;124;43mnelder-mead\u001b[39;49m\u001b[38;5;124;43m'\u001b[39;49m\u001b[43m,\u001b[49m\u001b[43margs\u001b[49m\u001b[43m \u001b[49m\u001b[38;5;241;43m=\u001b[39;49m\u001b[43m \u001b[49m\u001b[43m(\u001b[49m\u001b[43mf_star\u001b[49m\u001b[43m,\u001b[49m\u001b[43mT\u001b[49m\u001b[43m,\u001b[49m\u001b[43mscaling\u001b[49m\u001b[43m)\u001b[49m\u001b[43m,\u001b[49m\u001b[43moptions\u001b[49m\u001b[38;5;241;43m=\u001b[39;49m\u001b[43m{\u001b[49m\u001b[38;5;124;43m'\u001b[39;49m\u001b[38;5;124;43mxatol\u001b[39;49m\u001b[38;5;124;43m'\u001b[39;49m\u001b[43m:\u001b[49m\u001b[43m \u001b[49m\u001b[38;5;241;43m1e-8\u001b[39;49m\u001b[43m,\u001b[49m\u001b[38;5;124;43m'\u001b[39;49m\u001b[38;5;124;43mdisp\u001b[39;49m\u001b[38;5;124;43m'\u001b[39;49m\u001b[43m:\u001b[49m\u001b[43m \u001b[49m\u001b[38;5;28;43;01mTrue\u001b[39;49;00m\u001b[43m}\u001b[49m\u001b[43m)\u001b[49m\n\u001b[1;32m      3\u001b[0m f_inf_hat, a_hat, b_hat, fct_value \u001b[38;5;241m=\u001b[39m result\u001b[38;5;241m.\u001b[39mx[\u001b[38;5;241m0\u001b[39m], result\u001b[38;5;241m.\u001b[39mx[\u001b[38;5;241m1\u001b[39m:\u001b[38;5;241m1\u001b[39m\u001b[38;5;241m+\u001b[39mK\u001b[38;5;241m+\u001b[39m\u001b[38;5;241m1\u001b[39m], result\u001b[38;5;241m.\u001b[39mx[K\u001b[38;5;241m+\u001b[39m\u001b[38;5;241m2\u001b[39m:K\u001b[38;5;241m+\u001b[39m\u001b[38;5;241m2\u001b[39m\u001b[38;5;241m+\u001b[39mK\u001b[38;5;241m+\u001b[39m\u001b[38;5;241m1\u001b[39m], result\u001b[38;5;241m.\u001b[39mfun\n\u001b[1;32m      4\u001b[0m \u001b[38;5;28mprint\u001b[39m(\u001b[38;5;124mf\u001b[39m\u001b[38;5;124m\"\u001b[39m\u001b[38;5;124mf_inf_hat: \u001b[39m\u001b[38;5;132;01m{\u001b[39;00mf_inf_hat\u001b[38;5;132;01m}\u001b[39;00m\u001b[38;5;124m, a_hat: \u001b[39m\u001b[38;5;132;01m{\u001b[39;00ma_hat\u001b[38;5;132;01m}\u001b[39;00m\u001b[38;5;124m, b_hat: \u001b[39m\u001b[38;5;132;01m{\u001b[39;00mb_hat\u001b[38;5;132;01m}\u001b[39;00m\u001b[38;5;124m, opt: \u001b[39m\u001b[38;5;132;01m{\u001b[39;00mresult\u001b[38;5;241m.\u001b[39mfun\u001b[38;5;132;01m}\u001b[39;00m\u001b[38;5;124m\"\u001b[39m)\n",
      "File \u001b[0;32m~/opt/anaconda3/lib/python3.9/site-packages/scipy/optimize/_minimize.py:698\u001b[0m, in \u001b[0;36mminimize\u001b[0;34m(fun, x0, args, method, jac, hess, hessp, bounds, constraints, tol, callback, options)\u001b[0m\n\u001b[1;32m    695\u001b[0m callback \u001b[38;5;241m=\u001b[39m _wrap_callback(callback, meth)\n\u001b[1;32m    697\u001b[0m \u001b[38;5;28;01mif\u001b[39;00m meth \u001b[38;5;241m==\u001b[39m \u001b[38;5;124m'\u001b[39m\u001b[38;5;124mnelder-mead\u001b[39m\u001b[38;5;124m'\u001b[39m:\n\u001b[0;32m--> 698\u001b[0m     res \u001b[38;5;241m=\u001b[39m \u001b[43m_minimize_neldermead\u001b[49m\u001b[43m(\u001b[49m\u001b[43mfun\u001b[49m\u001b[43m,\u001b[49m\u001b[43m \u001b[49m\u001b[43mx0\u001b[49m\u001b[43m,\u001b[49m\u001b[43m \u001b[49m\u001b[43margs\u001b[49m\u001b[43m,\u001b[49m\u001b[43m \u001b[49m\u001b[43mcallback\u001b[49m\u001b[43m,\u001b[49m\u001b[43m \u001b[49m\u001b[43mbounds\u001b[49m\u001b[38;5;241;43m=\u001b[39;49m\u001b[43mbounds\u001b[49m\u001b[43m,\u001b[49m\n\u001b[1;32m    699\u001b[0m \u001b[43m                               \u001b[49m\u001b[38;5;241;43m*\u001b[39;49m\u001b[38;5;241;43m*\u001b[39;49m\u001b[43moptions\u001b[49m\u001b[43m)\u001b[49m\n\u001b[1;32m    700\u001b[0m \u001b[38;5;28;01melif\u001b[39;00m meth \u001b[38;5;241m==\u001b[39m \u001b[38;5;124m'\u001b[39m\u001b[38;5;124mpowell\u001b[39m\u001b[38;5;124m'\u001b[39m:\n\u001b[1;32m    701\u001b[0m     res \u001b[38;5;241m=\u001b[39m _minimize_powell(fun, x0, args, callback, bounds, \u001b[38;5;241m*\u001b[39m\u001b[38;5;241m*\u001b[39moptions)\n",
      "File \u001b[0;32m~/opt/anaconda3/lib/python3.9/site-packages/scipy/optimize/_optimize.py:899\u001b[0m, in \u001b[0;36m_minimize_neldermead\u001b[0;34m(func, x0, args, callback, maxiter, maxfev, disp, return_all, initial_simplex, xatol, fatol, adaptive, bounds, **unknown_options)\u001b[0m\n\u001b[1;32m    897\u001b[0m \u001b[38;5;28;01mtry\u001b[39;00m:\n\u001b[1;32m    898\u001b[0m     \u001b[38;5;28;01mfor\u001b[39;00m k \u001b[38;5;129;01min\u001b[39;00m \u001b[38;5;28mrange\u001b[39m(N \u001b[38;5;241m+\u001b[39m \u001b[38;5;241m1\u001b[39m):\n\u001b[0;32m--> 899\u001b[0m         fsim[k] \u001b[38;5;241m=\u001b[39m \u001b[43mfunc\u001b[49m\u001b[43m(\u001b[49m\u001b[43msim\u001b[49m\u001b[43m[\u001b[49m\u001b[43mk\u001b[49m\u001b[43m]\u001b[49m\u001b[43m)\u001b[49m\n\u001b[1;32m    900\u001b[0m \u001b[38;5;28;01mexcept\u001b[39;00m _MaxFuncCallError:\n\u001b[1;32m    901\u001b[0m     \u001b[38;5;28;01mpass\u001b[39;00m\n",
      "File \u001b[0;32m~/opt/anaconda3/lib/python3.9/site-packages/scipy/optimize/_optimize.py:620\u001b[0m, in \u001b[0;36m_wrap_scalar_function_maxfun_validation.<locals>.function_wrapper\u001b[0;34m(x, *wrapper_args)\u001b[0m\n\u001b[1;32m    618\u001b[0m ncalls[\u001b[38;5;241m0\u001b[39m] \u001b[38;5;241m+\u001b[39m\u001b[38;5;241m=\u001b[39m \u001b[38;5;241m1\u001b[39m\n\u001b[1;32m    619\u001b[0m \u001b[38;5;66;03m# A copy of x is sent to the user function (gh13740)\u001b[39;00m\n\u001b[0;32m--> 620\u001b[0m fx \u001b[38;5;241m=\u001b[39m \u001b[43mfunction\u001b[49m\u001b[43m(\u001b[49m\u001b[43mnp\u001b[49m\u001b[38;5;241;43m.\u001b[39;49m\u001b[43mcopy\u001b[49m\u001b[43m(\u001b[49m\u001b[43mx\u001b[49m\u001b[43m)\u001b[49m\u001b[43m,\u001b[49m\u001b[43m \u001b[49m\u001b[38;5;241;43m*\u001b[39;49m\u001b[43m(\u001b[49m\u001b[43mwrapper_args\u001b[49m\u001b[43m \u001b[49m\u001b[38;5;241;43m+\u001b[39;49m\u001b[43m \u001b[49m\u001b[43margs\u001b[49m\u001b[43m)\u001b[49m\u001b[43m)\u001b[49m\n\u001b[1;32m    621\u001b[0m \u001b[38;5;66;03m# Ideally, we'd like to a have a true scalar returned from f(x). For\u001b[39;00m\n\u001b[1;32m    622\u001b[0m \u001b[38;5;66;03m# backwards-compatibility, also allow np.array([1.3]),\u001b[39;00m\n\u001b[1;32m    623\u001b[0m \u001b[38;5;66;03m# np.array([[1.3]]) etc.\u001b[39;00m\n\u001b[1;32m    624\u001b[0m \u001b[38;5;28;01mif\u001b[39;00m \u001b[38;5;129;01mnot\u001b[39;00m np\u001b[38;5;241m.\u001b[39misscalar(fx):\n",
      "Input \u001b[0;32mIn [50]\u001b[0m, in \u001b[0;36mfit_forward_rate_ns_obj\u001b[0;34m(param, f_star, T, scaling)\u001b[0m\n\u001b[1;32m      4\u001b[0m f_inf, a, b \u001b[38;5;241m=\u001b[39m param[\u001b[38;5;241m0\u001b[39m], param[\u001b[38;5;241m1\u001b[39m:\u001b[38;5;241m1\u001b[39m\u001b[38;5;241m+\u001b[39mK\u001b[38;5;241m+\u001b[39m\u001b[38;5;241m1\u001b[39m], param[K\u001b[38;5;241m+\u001b[39m\u001b[38;5;241m2\u001b[39m:K\u001b[38;5;241m+\u001b[39m\u001b[38;5;241m2\u001b[39m\u001b[38;5;241m+\u001b[39mK\u001b[38;5;241m+\u001b[39m\u001b[38;5;241m1\u001b[39m]\n\u001b[1;32m      5\u001b[0m param_fit \u001b[38;5;241m=\u001b[39m f_inf, a, b\n\u001b[0;32m----> 6\u001b[0m M \u001b[38;5;241m=\u001b[39m \u001b[38;5;28;43mlen\u001b[39;49m\u001b[43m(\u001b[49m\u001b[43mT\u001b[49m\u001b[43m)\u001b[49m\n\u001b[1;32m      7\u001b[0m f_fit \u001b[38;5;241m=\u001b[39m fid\u001b[38;5;241m.\u001b[39mf_ns(param_fit,T)\n\u001b[1;32m      8\u001b[0m y \u001b[38;5;241m=\u001b[39m \u001b[38;5;241m0\u001b[39m\n",
      "\u001b[0;31mTypeError\u001b[0m: object of type 'int' has no len()"
     ]
    }
   ],
   "source": [
    "# print(f\"Unconstrained optimization\")\n",
    "result = minimize(fit_forward_rate_ns_obj,param_0,method = 'nelder-mead',args = (f_star,T,scaling),options={'xatol': 1e-8,'disp': True})\n",
    "f_inf_hat, a_hat, b_hat, fct_value = result.x[0], result.x[1:1+K+1], result.x[K+2:K+2+K+1], result.fun\n",
    "print(f\"f_inf_hat: {f_inf_hat}, a_hat: {a_hat}, b_hat: {b_hat}, opt: {result.fun}\")\n",
    "f_fit = fid.f_ns((f_inf_hat,a_hat,b_hat),T)\n",
    "print(f\"r0: {f_fit[0]}\")"
   ]
  },
  {
   "cell_type": "code",
   "execution_count": null,
   "id": "9afa2f68-bcff-4556-a1f4-1452871d28bf",
   "metadata": {},
   "outputs": [],
   "source": [
    "# Problem 2\n",
    "def fit_forward_rate_ns_obj(param,f_star,T,scaling):\n",
    "    K = int((len(param)-1)/2 - 1)\n",
    "    f_inf, a, b = param[0], param[1:1+K+1], param[K+2:K+2+K+1]\n",
    "    param_fit = f_inf, a, b\n",
    "    M = len(T)\n",
    "    f_fit = fid.f_ns(param_fit,T)\n",
    "    y = 0\n",
    "    for m in range(0,M):\n",
    "        y += scaling*(f_fit[m] - f_star[m])**2\n",
    "    return y\n",
    "\n",
    "def fit_forward_rate_ns_jac(param,f_star,T,scaling):\n",
    "    N = int((len(param)-1)/2 - 1)\n",
    "    param_fit = param[0], param[1:1+N+1], param[N+2:N+2+N+1]\n",
    "    M = len(T)\n",
    "    f_fit = fid.f_ns(param_fit,T)\n",
    "    jac = np.zeros([len(param)])\n",
    "    for m in range(0,M):\n",
    "        # f_deriv = fid.f_ns_jac(param_fit,T[m])\n",
    "        jac += scaling*2*(f_fit[m] - f_star[m])*fid.f_ns_jac(param_fit,T[m])\n",
    "    return jac\n",
    "\n",
    "def fit_forward_rate_ns_hess(param,f_star,T,scaling):\n",
    "    N = int((len(param)-1)/2 - 1)\n",
    "    param_fit = param[0], param[1:1+N+1], param[N+2:N+2+N+1]\n",
    "    M = len(T)\n",
    "    f_fit = fid.f_ns(param_fit,T)\n",
    "    hess = np.zeros([len(param),len(param)])\n",
    "    for m in range(0,M):\n",
    "        # f_deriv = fid.f_ns_jac(param_fit,T[m])\n",
    "        f_deriv = fid.f_ns_jac(param_fit,T[m])\n",
    "        hess += scaling*2*(f_fit[m] - f_star[m])*fid.f_ns_hess(param_fit,T[m]) + 2*np.outer(f_deriv,f_deriv)\n",
    "    return hess\n",
    "\n",
    "# Initial parameter values\n",
    "f_inf_0 = (0.03,)\n",
    "a_0 = -0.05, 0.03, 0.001\n",
    "b_0 = 0.35, 0.35, 0.7\n",
    "scaling = 10e12\n",
    "\n",
    "K = len(a_0) - 1\n",
    "param_0 = f_inf_0 + a_0 + b_0\n",
    "# print(f\"Unconstrained optimization\")\n",
    "result = minimize(fit_forward_rate_ns_obj,param_0,method = 'nelder-mead',args = (f_star,T,scaling),options={'xatol': 1e-8,'disp': True})\n",
    "f_inf_hat, a_hat, b_hat, fct_value = result.x[0], result.x[1:1+K+1], result.x[K+2:K+2+K+1], result.fun\n",
    "print(f\"f_inf_hat: {f_inf_hat}, a_hat: {a_hat}, b_hat: {b_hat}, opt: {result.fun}\")\n",
    "f_fit = fid.f_ns((f_inf_hat,a_hat,b_hat),T)\n",
    "print(f\"r0: {f_fit[0]}\")\n",
    "\n",
    "# # print(f\"Optimization using both the Jacobian and the Hessian\")\n",
    "# result = minimize(fit_forward_rate_ns_obj, param_0, method='Newton-CG',args = (f_star,T,scaling),jac = fit_forward_rate_ns_jac, hess=fit_forward_rate_ns_hess,options={'maxiter': 5000, 'xtol': 1e-12, 'disp': False})\n",
    "# f_inf_hat, a_hat, b_hat, fct_value = result.x[0], result.x[1:1+K+1], result.x[K+2:K+2+K+1], result.fun\n",
    "# print(f\"f_inf_hat: {f_inf_hat}, a_hat: {a_hat}, b_hat: {b_hat}, opt: {result.fun}\")\n",
    "# f_fit = fid.f_ns((f_inf_hat,a_hat,b_hat),T)\n",
    "# print(f\"ro: {f_fit[0]}\")\n",
    "\n",
    "fig = plt.figure(constrained_layout=False, dpi = 300, figsize = (5,3))   #\n",
    "fig.suptitle(f\"Empirical and fitted forward rates\", fontsize = 9)\n",
    "gs = fig.add_gridspec(nrows=1,ncols=1,left=0.12,bottom=0.2,right=0.88,top=0.90,wspace=0,hspace=0)\n",
    "ax = fig.add_subplot(gs[0,0])\n",
    "\n",
    "xticks = [0,2,4,6,8,10]\n",
    "ax.set_xticks(xticks)\n",
    "ax.set_xticklabels(xticks,fontsize = 6)\n",
    "ax.set_xlim([xticks[0]-0.2,xticks[-1]+0.2])\n",
    "plt.xlabel(f\"Maturity\",fontsize = 6)\n",
    "ax.set_yticks([0,0.02,0.04,0.06,0.08,0.1])\n",
    "ax.set_yticklabels([0,0.02,0.04,0.06,0.08,0.1],fontsize = 6)\n",
    "ax.set_ylim([0,0.105])\n",
    "ax.set_ylabel(f\"forward rates\",fontsize = 6)\n",
    "p1 = ax.scatter(T, f_star, s = 1, color = 'black', marker = \".\",label=\"f_star\")\n",
    "p2 = ax.scatter(T, f_fit, s = 1, color = 'red', marker = \".\",label=\"f_fit\")\n",
    "\n",
    "plots = [p1,p2]\n",
    "labels = [item.get_label() for item in plots]\n",
    "ax.legend(plots,labels,loc=\"upper right\",fontsize = 6)\n",
    "\n",
    "plt.show()"
   ]
  },
  {
   "cell_type": "markdown",
   "id": "14815bda-05f8-4b8a-953c-ccbf4eaa337e",
   "metadata": {
    "jp-MarkdownHeadingCollapsed": true,
    "tags": []
   },
   "source": [
    "## Price Asian Derivative"
   ]
  },
  {
   "cell_type": "markdown",
   "id": "e5246583-1bef-4646-8e72-de6d0dfa0459",
   "metadata": {},
   "source": [
    "**A common practice in finance:**\n",
    "1) We observe prices in market\n",
    "2) Fit model to prices\n",
    "3) Compute something more exotic (not priced in the market) using the fitted model\n"
   ]
  },
  {
   "cell_type": "markdown",
   "id": "0360396d-bf32-484e-89b9-2e5ed2e4f704",
   "metadata": {},
   "source": [
    "**Introduction**\n",
    "We consider an Asian-style derivative which at maturity $S=1$ pays the average short rate over the period from $t=0$ to $S=1$ provided the average short rate is positive. The contract function for this option is in other words\n",
    "$$\n",
    "\\chi(S)=\\frac{1}{S} \\max \\left(\\int_0^S r_u d u, 0\\right)=\\frac{1}{S}\\left(\\int_0^S r_u d u\\right)_{+}\n",
    "$$\n",
    "\n",
    "**How to Compute price of Derivative**:\n",
    "1) Compute: $\\chi_1(S)=\\frac{1}{S} \\sum_{\\mathrm{m}=0}^{\\mathrm{M}} r_m$\n",
    "    - i.e. Simulate the short rate previsouly obtained parameters and $\\sigma=0.03$. Denote by $\\mathrm{M}$, the number of steps in your simulation. The time points in your simulation will be numbered $m=0,1,2, \\ldots, M-1, M$ and the time points will be $\\left[t_0, t_1, \\ldots, t_{M-1}, t_M\\right]=[0, \\delta, 2 \\delta, \\ldots, S-\\delta, S]$ and $\\delta=\\frac{S}{M}$. The scheme you will need to implement is a simple Euler first-order scheme of the form\n",
    "$$\n",
    "r_m=r_{m-1}+\\Theta\\left(t_{m-1}\\right) \\delta+\\sigma \\sqrt{\\delta} Z_m, \\quad m=1,2, \\ldots, M\n",
    "$$\n",
    "where $Z_m \\sim N(0,1), m=1, \\ldots, M$ and all the standard normal random variables are independent.\n",
    "2) This we do for $N$ simulations to get:\n",
    "$$\n",
    "\\chi_N(S) =\\frac{1}{N} \\sum_{n=1}^N \\chi_n(S)\n",
    "$$\n",
    "Notice this Asian type derivative pays the average."
   ]
  },
  {
   "cell_type": "code",
   "execution_count": 85,
   "id": "690b2f07-fa27-4b6b-b16c-dff2451775b4",
   "metadata": {},
   "outputs": [
    {
     "name": "stdout",
     "output_type": "stream",
     "text": [
      "Price of the Asian derivative: 0.01413141\n"
     ]
    }
   ],
   "source": [
    "# parameters obtained from earlier\n",
    "f_inf_hat = 0.0470857723425845\n",
    "r0 = 0.01946854287371834\n",
    "a_hat = [-0.02761198, 0.01251315, 0.00146974]\n",
    "b_hat = [0.38773133, 0.28801503, 0.68312069]\n",
    "sigma = 0.03\n",
    "N = 10 # no. of simulations\n",
    "M, T = 252, 1 # time steps and time to maturity\n",
    "\n",
    "param = f_inf_hat, a_hat, b_hat, sigma\n",
    "\n",
    "# Function to compute the price of the Asian derivative\n",
    "def compute_asian_derivative_price(N, r0, param, M, T):\n",
    "    chi = 0\n",
    "    for n in range(0,N):\n",
    "        r = fid.short_rate_simul(r0, param, M, T, method=\"ho_lee_ns\")\n",
    "        chi += np.exp(-sum(r)/N) * max(sum(r)/(M+1), 0)\n",
    "    return chi / N\n",
    "\n",
    "price = compute_asian_derivative_price(N, r0, param, M, T)\n",
    "print(f\"Price of the Asian derivative: {price:.8f}\")"
   ]
  },
  {
   "cell_type": "markdown",
   "id": "9b999f6a-000a-4a8a-b9ce-f650a001bc49",
   "metadata": {},
   "source": [
    "We run the above scheme for increasing values of $N$ and plot the value of the derivative as a function of $N$. Assess how large $N$ has to be for your scheme to have converged and for the price you computed to be reasonably accurate."
   ]
  },
  {
   "cell_type": "code",
   "execution_count": 87,
   "id": "e7a8ace1-d175-45d5-84cd-b370182dfd6c",
   "metadata": {},
   "outputs": [],
   "source": [
    "# Simulating for increasing values of N and plotting\n",
    "N_values = np.linspace(10, 10_000, 50, dtype=int) \n",
    "asian_derivative_prices = []\n",
    "\n",
    "for N in N_values:\n",
    "    price = compute_asian_derivative_price(N, r0, param, M, T)\n",
    "    asian_derivative_prices.append(price)"
   ]
  },
  {
   "cell_type": "code",
   "execution_count": 107,
   "id": "2e22188c-fe8c-4bd1-8e7f-2b58409c81e7",
   "metadata": {},
   "outputs": [
    {
     "data": {
      "image/png": "[encoded data removed]",
      "text/plain": [
       "<Figure size 1500x900 with 1 Axes>"
      ]
     },
     "metadata": {
      "needs_background": "light"
     },
     "output_type": "display_data"
    }
   ],
   "source": [
    "# Creating a plot with the specified style and layout\n",
    "fig = plt.figure(constrained_layout=False, dpi=300, figsize=(5, 3))\n",
    "fig.suptitle(\"Price of Asian Derivative as a Function of the Number of Simulations\", fontsize=9)\n",
    "gs = fig.add_gridspec(nrows=1, ncols=1, left=0.12, bottom=0.2, right=0.88, top=0.90, wspace=0, hspace=0)\n",
    "ax = fig.add_subplot(gs[0, 0])\n",
    "ax.grid(axis='y', linestyle='--', color='grey', alpha=0.7)\n",
    "\n",
    "plt.xlabel(\"Number of Simulations, $N$\", fontsize=6)\n",
    "ax.set_ylabel(\"Price of Asian Derivative\", fontsize=6)\n",
    "\n",
    "# Plotting the Asian derivative prices\n",
    "ax.plot(N_values, asian_derivative_prices, color='black', marker='', linewidth=1., label=\"Asian Derivative Price\")\n",
    "\n",
    "ax.legend(loc=\"lower right\", fontsize=6)\n",
    "plt.show()"
   ]
  },
  {
   "cell_type": "markdown",
   "id": "93e84091-8c94-47b1-9e10-4a1d70889cfb",
   "metadata": {},
   "source": [
    "Notice, it converges with rate $\\sqrt{n}$ as a function of $N$ (we could explore $N$ and $M$ țade-off)."
   ]
  },
  {
   "cell_type": "code",
   "execution_count": null,
   "id": "0518cf0d-5887-482f-92d0-1097f8ec6b20",
   "metadata": {},
   "outputs": [],
   "source": []
  }
 ],
 "metadata": {
  "kernelspec": {
   "display_name": "Python 3 (ipykernel)",
   "language": "python",
   "name": "python3"
  },
  "language_info": {
   "codemirror_mode": {
    "name": "ipython",
    "version": 3
   },
   "file_extension": ".py",
   "mimetype": "text/x-python",
   "name": "python",
   "nbconvert_exporter": "python",
   "pygments_lexer": "ipython3",
   "version": "3.9.12"
  }
 },
 "nbformat": 4,
 "nbformat_minor": 5
}
